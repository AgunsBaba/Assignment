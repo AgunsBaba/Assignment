{
  "nbformat": 4,
  "nbformat_minor": 0,
  "metadata": {
    "colab": {
      "name": "BeltExam3b.ipynb",
      "provenance": [],
      "collapsed_sections": [],
      "authorship_tag": "ABX9TyNE6/jN2PsLG1fcTOsP7l5s",
      "include_colab_link": true
    },
    "kernelspec": {
      "name": "python3",
      "display_name": "Python 3"
    },
    "language_info": {
      "name": "python"
    }
  },
  "cells": [
    {
      "cell_type": "markdown",
      "metadata": {
        "id": "view-in-github",
        "colab_type": "text"
      },
      "source": [
        "<a href=\"https://colab.research.google.com/github/AgunsBaba/Assignment/blob/master/BeltExam3b.ipynb\" target=\"_parent\"><img src=\"https://colab.research.google.com/assets/colab-badge.svg\" alt=\"Open In Colab\"/></a>"
      ]
    },
    {
      "cell_type": "code",
      "execution_count": 1,
      "metadata": {
        "id": "W8xAmhCpKDsb"
      },
      "outputs": [],
      "source": [
        "#import modules\n",
        "import numpy as np\n",
        "import pandas as pd\n",
        "import matplotlib.pyplot as plt\n",
        "import seaborn as sns\n",
        "from seaborn import heatmap\n",
        "from sklearn.preprocessing import StandardScaler \n",
        "from sklearn.cluster import KMeans\n",
        "from sklearn.metrics import silhouette_score, classification_report, \\\n",
        "confusion_matrix\n",
        "from sklearn.decomposition import PCA\n",
        "from tensorflow.keras.models import Sequential\n",
        "from tensorflow.keras.layers import Dense, Dropout\n",
        "from sklearn.model_selection import train_test_split\n",
        "from keras import losses\n",
        "from keras import metrics\n",
        "from keras import models\n",
        "from keras import layers"
      ]
    },
    {
      "cell_type": "markdown",
      "source": [
        "### **Part 1 Clustering**"
      ],
      "metadata": {
        "id": "BShfZ55yhCy9"
      }
    },
    {
      "cell_type": "markdown",
      "source": [
        "**Data Exploration and Cleansing**"
      ],
      "metadata": {
        "id": "BAGEaQHPcwMx"
      }
    },
    {
      "cell_type": "code",
      "source": [
        "#import data\n",
        "df1 = pd.read_csv('/content/Option_B_clustering - Option_B_clustering.csv')\n",
        "df1.head()"
      ],
      "metadata": {
        "colab": {
          "base_uri": "https://localhost:8080/",
          "height": 250
        },
        "id": "r9QFDdwwKc19",
        "outputId": "3712b210-4a00-454d-d469-8e3cdc89ff30"
      },
      "execution_count": 2,
      "outputs": [
        {
          "output_type": "execute_result",
          "data": {
            "text/html": [
              "\n",
              "  <div id=\"df-77b2958d-ec89-4804-89c1-1b04e61638b3\">\n",
              "    <div class=\"colab-df-container\">\n",
              "      <div>\n",
              "<style scoped>\n",
              "    .dataframe tbody tr th:only-of-type {\n",
              "        vertical-align: middle;\n",
              "    }\n",
              "\n",
              "    .dataframe tbody tr th {\n",
              "        vertical-align: top;\n",
              "    }\n",
              "\n",
              "    .dataframe thead th {\n",
              "        text-align: right;\n",
              "    }\n",
              "</style>\n",
              "<table border=\"1\" class=\"dataframe\">\n",
              "  <thead>\n",
              "    <tr style=\"text-align: right;\">\n",
              "      <th></th>\n",
              "      <th>gender</th>\n",
              "      <th>highest_education</th>\n",
              "      <th>imd_band</th>\n",
              "      <th>age_band</th>\n",
              "      <th>num_of_prev_attempts</th>\n",
              "      <th>studied_credits</th>\n",
              "      <th>disability</th>\n",
              "      <th>passed_course</th>\n",
              "      <th>assess_score_1</th>\n",
              "      <th>assess_score_2</th>\n",
              "      <th>assess_score_3</th>\n",
              "      <th>assess_score_4</th>\n",
              "      <th>assess_score_5</th>\n",
              "    </tr>\n",
              "  </thead>\n",
              "  <tbody>\n",
              "    <tr>\n",
              "      <th>0</th>\n",
              "      <td>1</td>\n",
              "      <td>2</td>\n",
              "      <td>9</td>\n",
              "      <td>2</td>\n",
              "      <td>0</td>\n",
              "      <td>240</td>\n",
              "      <td>0</td>\n",
              "      <td>1</td>\n",
              "      <td>78</td>\n",
              "      <td>85</td>\n",
              "      <td>80</td>\n",
              "      <td>85</td>\n",
              "      <td>82</td>\n",
              "    </tr>\n",
              "    <tr>\n",
              "      <th>1</th>\n",
              "      <td>0</td>\n",
              "      <td>2</td>\n",
              "      <td>2</td>\n",
              "      <td>1</td>\n",
              "      <td>0</td>\n",
              "      <td>60</td>\n",
              "      <td>0</td>\n",
              "      <td>1</td>\n",
              "      <td>70</td>\n",
              "      <td>68</td>\n",
              "      <td>70</td>\n",
              "      <td>64</td>\n",
              "      <td>60</td>\n",
              "    </tr>\n",
              "    <tr>\n",
              "      <th>2</th>\n",
              "      <td>0</td>\n",
              "      <td>3</td>\n",
              "      <td>5</td>\n",
              "      <td>1</td>\n",
              "      <td>0</td>\n",
              "      <td>60</td>\n",
              "      <td>0</td>\n",
              "      <td>1</td>\n",
              "      <td>72</td>\n",
              "      <td>71</td>\n",
              "      <td>74</td>\n",
              "      <td>88</td>\n",
              "      <td>75</td>\n",
              "    </tr>\n",
              "    <tr>\n",
              "      <th>3</th>\n",
              "      <td>0</td>\n",
              "      <td>1</td>\n",
              "      <td>5</td>\n",
              "      <td>0</td>\n",
              "      <td>0</td>\n",
              "      <td>60</td>\n",
              "      <td>0</td>\n",
              "      <td>1</td>\n",
              "      <td>69</td>\n",
              "      <td>30</td>\n",
              "      <td>63</td>\n",
              "      <td>35</td>\n",
              "      <td>75</td>\n",
              "    </tr>\n",
              "    <tr>\n",
              "      <th>4</th>\n",
              "      <td>1</td>\n",
              "      <td>2</td>\n",
              "      <td>3</td>\n",
              "      <td>0</td>\n",
              "      <td>0</td>\n",
              "      <td>60</td>\n",
              "      <td>0</td>\n",
              "      <td>1</td>\n",
              "      <td>70</td>\n",
              "      <td>65</td>\n",
              "      <td>62</td>\n",
              "      <td>75</td>\n",
              "      <td>68</td>\n",
              "    </tr>\n",
              "  </tbody>\n",
              "</table>\n",
              "</div>\n",
              "      <button class=\"colab-df-convert\" onclick=\"convertToInteractive('df-77b2958d-ec89-4804-89c1-1b04e61638b3')\"\n",
              "              title=\"Convert this dataframe to an interactive table.\"\n",
              "              style=\"display:none;\">\n",
              "        \n",
              "  <svg xmlns=\"http://www.w3.org/2000/svg\" height=\"24px\"viewBox=\"0 0 24 24\"\n",
              "       width=\"24px\">\n",
              "    <path d=\"M0 0h24v24H0V0z\" fill=\"none\"/>\n",
              "    <path d=\"M18.56 5.44l.94 2.06.94-2.06 2.06-.94-2.06-.94-.94-2.06-.94 2.06-2.06.94zm-11 1L8.5 8.5l.94-2.06 2.06-.94-2.06-.94L8.5 2.5l-.94 2.06-2.06.94zm10 10l.94 2.06.94-2.06 2.06-.94-2.06-.94-.94-2.06-.94 2.06-2.06.94z\"/><path d=\"M17.41 7.96l-1.37-1.37c-.4-.4-.92-.59-1.43-.59-.52 0-1.04.2-1.43.59L10.3 9.45l-7.72 7.72c-.78.78-.78 2.05 0 2.83L4 21.41c.39.39.9.59 1.41.59.51 0 1.02-.2 1.41-.59l7.78-7.78 2.81-2.81c.8-.78.8-2.07 0-2.86zM5.41 20L4 18.59l7.72-7.72 1.47 1.35L5.41 20z\"/>\n",
              "  </svg>\n",
              "      </button>\n",
              "      \n",
              "  <style>\n",
              "    .colab-df-container {\n",
              "      display:flex;\n",
              "      flex-wrap:wrap;\n",
              "      gap: 12px;\n",
              "    }\n",
              "\n",
              "    .colab-df-convert {\n",
              "      background-color: #E8F0FE;\n",
              "      border: none;\n",
              "      border-radius: 50%;\n",
              "      cursor: pointer;\n",
              "      display: none;\n",
              "      fill: #1967D2;\n",
              "      height: 32px;\n",
              "      padding: 0 0 0 0;\n",
              "      width: 32px;\n",
              "    }\n",
              "\n",
              "    .colab-df-convert:hover {\n",
              "      background-color: #E2EBFA;\n",
              "      box-shadow: 0px 1px 2px rgba(60, 64, 67, 0.3), 0px 1px 3px 1px rgba(60, 64, 67, 0.15);\n",
              "      fill: #174EA6;\n",
              "    }\n",
              "\n",
              "    [theme=dark] .colab-df-convert {\n",
              "      background-color: #3B4455;\n",
              "      fill: #D2E3FC;\n",
              "    }\n",
              "\n",
              "    [theme=dark] .colab-df-convert:hover {\n",
              "      background-color: #434B5C;\n",
              "      box-shadow: 0px 1px 3px 1px rgba(0, 0, 0, 0.15);\n",
              "      filter: drop-shadow(0px 1px 2px rgba(0, 0, 0, 0.3));\n",
              "      fill: #FFFFFF;\n",
              "    }\n",
              "  </style>\n",
              "\n",
              "      <script>\n",
              "        const buttonEl =\n",
              "          document.querySelector('#df-77b2958d-ec89-4804-89c1-1b04e61638b3 button.colab-df-convert');\n",
              "        buttonEl.style.display =\n",
              "          google.colab.kernel.accessAllowed ? 'block' : 'none';\n",
              "\n",
              "        async function convertToInteractive(key) {\n",
              "          const element = document.querySelector('#df-77b2958d-ec89-4804-89c1-1b04e61638b3');\n",
              "          const dataTable =\n",
              "            await google.colab.kernel.invokeFunction('convertToInteractive',\n",
              "                                                     [key], {});\n",
              "          if (!dataTable) return;\n",
              "\n",
              "          const docLinkHtml = 'Like what you see? Visit the ' +\n",
              "            '<a target=\"_blank\" href=https://colab.research.google.com/notebooks/data_table.ipynb>data table notebook</a>'\n",
              "            + ' to learn more about interactive tables.';\n",
              "          element.innerHTML = '';\n",
              "          dataTable['output_type'] = 'display_data';\n",
              "          await google.colab.output.renderOutput(dataTable, element);\n",
              "          const docLink = document.createElement('div');\n",
              "          docLink.innerHTML = docLinkHtml;\n",
              "          element.appendChild(docLink);\n",
              "        }\n",
              "      </script>\n",
              "    </div>\n",
              "  </div>\n",
              "  "
            ],
            "text/plain": [
              "   gender  highest_education  ...  assess_score_4  assess_score_5\n",
              "0       1                  2  ...              85              82\n",
              "1       0                  2  ...              64              60\n",
              "2       0                  3  ...              88              75\n",
              "3       0                  1  ...              35              75\n",
              "4       1                  2  ...              75              68\n",
              "\n",
              "[5 rows x 13 columns]"
            ]
          },
          "metadata": {},
          "execution_count": 2
        }
      ]
    },
    {
      "cell_type": "code",
      "source": [
        "#check info about data\n",
        "df1.info()"
      ],
      "metadata": {
        "colab": {
          "base_uri": "https://localhost:8080/"
        },
        "id": "tZwG76ArawLw",
        "outputId": "3f420500-e0cd-4d18-b006-e2972cd72033"
      },
      "execution_count": 3,
      "outputs": [
        {
          "output_type": "stream",
          "name": "stdout",
          "text": [
            "<class 'pandas.core.frame.DataFrame'>\n",
            "RangeIndex: 12737 entries, 0 to 12736\n",
            "Data columns (total 13 columns):\n",
            " #   Column                Non-Null Count  Dtype\n",
            "---  ------                --------------  -----\n",
            " 0   gender                12737 non-null  int64\n",
            " 1   highest_education     12737 non-null  int64\n",
            " 2   imd_band              12737 non-null  int64\n",
            " 3   age_band              12737 non-null  int64\n",
            " 4   num_of_prev_attempts  12737 non-null  int64\n",
            " 5   studied_credits       12737 non-null  int64\n",
            " 6   disability            12737 non-null  int64\n",
            " 7   passed_course         12737 non-null  int64\n",
            " 8   assess_score_1        12737 non-null  int64\n",
            " 9   assess_score_2        12737 non-null  int64\n",
            " 10  assess_score_3        12737 non-null  int64\n",
            " 11  assess_score_4        12737 non-null  int64\n",
            " 12  assess_score_5        12737 non-null  int64\n",
            "dtypes: int64(13)\n",
            "memory usage: 1.3 MB\n"
          ]
        }
      ]
    },
    {
      "cell_type": "code",
      "source": [
        "#check duplicates\n",
        "duplicates = df1.duplicated().sum()\n",
        "if duplicates > 0:\n",
        "  print('Our data has duplicates that need to be cleaned')"
      ],
      "metadata": {
        "colab": {
          "base_uri": "https://localhost:8080/"
        },
        "id": "os07_xY0a4H_",
        "outputId": "571e15d6-eb4e-448e-8120-e68778d6dfd2"
      },
      "execution_count": 4,
      "outputs": [
        {
          "output_type": "stream",
          "name": "stdout",
          "text": [
            "Our data has duplicates that need to be cleaned\n"
          ]
        }
      ]
    },
    {
      "cell_type": "code",
      "source": [
        "#remove duplicates\n",
        "df1.drop_duplicates(inplace=True)"
      ],
      "metadata": {
        "id": "bKKWPv-YcMGH"
      },
      "execution_count": 5,
      "outputs": []
    },
    {
      "cell_type": "code",
      "source": [
        "#confirm duplicates have been removed\n",
        "duplicates1 = df1.duplicated().sum()\n",
        "if duplicates1 == 0:\n",
        "  print('There are no more duplicates in our data')"
      ],
      "metadata": {
        "colab": {
          "base_uri": "https://localhost:8080/"
        },
        "id": "So1SgqnHcc4v",
        "outputId": "91902f83-c47d-4034-c695-49f48b34c1d1"
      },
      "execution_count": 6,
      "outputs": [
        {
          "output_type": "stream",
          "name": "stdout",
          "text": [
            "There are no more duplicates in our data\n"
          ]
        }
      ]
    },
    {
      "cell_type": "code",
      "source": [
        "#check data info after removing duplicates\n",
        "df1.info()"
      ],
      "metadata": {
        "colab": {
          "base_uri": "https://localhost:8080/"
        },
        "id": "lqgOHlAveXzP",
        "outputId": "06e6945f-97fa-4b9e-c05b-ae8cb5063575"
      },
      "execution_count": 7,
      "outputs": [
        {
          "output_type": "stream",
          "name": "stdout",
          "text": [
            "<class 'pandas.core.frame.DataFrame'>\n",
            "Int64Index: 12730 entries, 0 to 12736\n",
            "Data columns (total 13 columns):\n",
            " #   Column                Non-Null Count  Dtype\n",
            "---  ------                --------------  -----\n",
            " 0   gender                12730 non-null  int64\n",
            " 1   highest_education     12730 non-null  int64\n",
            " 2   imd_band              12730 non-null  int64\n",
            " 3   age_band              12730 non-null  int64\n",
            " 4   num_of_prev_attempts  12730 non-null  int64\n",
            " 5   studied_credits       12730 non-null  int64\n",
            " 6   disability            12730 non-null  int64\n",
            " 7   passed_course         12730 non-null  int64\n",
            " 8   assess_score_1        12730 non-null  int64\n",
            " 9   assess_score_2        12730 non-null  int64\n",
            " 10  assess_score_3        12730 non-null  int64\n",
            " 11  assess_score_4        12730 non-null  int64\n",
            " 12  assess_score_5        12730 non-null  int64\n",
            "dtypes: int64(13)\n",
            "memory usage: 1.4 MB\n"
          ]
        }
      ]
    },
    {
      "cell_type": "code",
      "source": [
        "#check null values\n",
        "df1.isnull().sum()"
      ],
      "metadata": {
        "colab": {
          "base_uri": "https://localhost:8080/"
        },
        "id": "PpKyDoVUe35e",
        "outputId": "7899ee8d-9800-471d-fd61-f647162339d9"
      },
      "execution_count": 8,
      "outputs": [
        {
          "output_type": "execute_result",
          "data": {
            "text/plain": [
              "gender                  0\n",
              "highest_education       0\n",
              "imd_band                0\n",
              "age_band                0\n",
              "num_of_prev_attempts    0\n",
              "studied_credits         0\n",
              "disability              0\n",
              "passed_course           0\n",
              "assess_score_1          0\n",
              "assess_score_2          0\n",
              "assess_score_3          0\n",
              "assess_score_4          0\n",
              "assess_score_5          0\n",
              "dtype: int64"
            ]
          },
          "metadata": {},
          "execution_count": 8
        }
      ]
    },
    {
      "cell_type": "markdown",
      "source": [
        "There are no null values"
      ],
      "metadata": {
        "id": "H_P_3aOvfFIG"
      }
    },
    {
      "cell_type": "markdown",
      "source": [
        "**Preparing the Dataset for Modeling and Model Analysis**"
      ],
      "metadata": {
        "id": "F3wKIdDLgzeG"
      }
    },
    {
      "cell_type": "code",
      "source": [
        "#feature engineer an extra column to get average assess_score for each student\n",
        "df1['average_score'] = df1[['assess_score_1', 'assess_score_2', 'assess_score_3', 'assess_score_4', 'assess_score_5']].mean(axis=1)"
      ],
      "metadata": {
        "id": "2lstQDZPaQr9"
      },
      "execution_count": 9,
      "outputs": []
    },
    {
      "cell_type": "code",
      "source": [
        "#scale the dataset\n",
        "scaler = StandardScaler()\n",
        "scaled_data = scaler.fit_transform(df1)"
      ],
      "metadata": {
        "id": "30JnzxRfStjo"
      },
      "execution_count": 10,
      "outputs": []
    },
    {
      "cell_type": "code",
      "source": [
        "#fit the Kmeans algo\n",
        "kmeans = KMeans(n_clusters=4, random_state=42)\n",
        "kmeans.fit(scaled_data)"
      ],
      "metadata": {
        "colab": {
          "base_uri": "https://localhost:8080/"
        },
        "id": "yC4AL-OmS8RA",
        "outputId": "b4e5d117-886d-4031-88c1-34b0a3f80173"
      },
      "execution_count": 11,
      "outputs": [
        {
          "output_type": "execute_result",
          "data": {
            "text/plain": [
              "KMeans(n_clusters=4, random_state=42)"
            ]
          },
          "metadata": {},
          "execution_count": 11
        }
      ]
    },
    {
      "cell_type": "code",
      "source": [
        "#Visualizing silhouette score and inertia for kmeans\n",
        "score_km = [] #list to store silhoutte score\n",
        "ini_km = [] #list to store intertia score\n",
        "k_range = range(2, 10)\n",
        "for i in k_range:\n",
        "  kmeans_m = KMeans(n_clusters=i)\n",
        "  kmeans_m.fit(scaled_data)\n",
        "  score_km.append(silhouette_score(scaled_data, kmeans_m.labels_))\n",
        "  ini_km.append(kmeans_m.inertia_)\n",
        "\n",
        "#visualize scores\n",
        "\n",
        "plt.style.use('seaborn')\n",
        "\n",
        "plt.subplot(1,2,1)\n",
        "plt.plot(range(2, 10), score_km)\n",
        "plt.xlabel('Number of Clusters')\n",
        "plt.ylabel('Score')\n",
        "plt.title('Silhoutte Score')\n",
        "plt.show()\n",
        "\n",
        "plt.subplot(1,2,2)\n",
        "plt.plot(range(2, 10), ini_km)\n",
        "plt.xlabel('Number of Clusters')\n",
        "plt.ylabel('Inertia')\n",
        "plt.title('Inertia')\n",
        "plt.show()"
      ],
      "metadata": {
        "colab": {
          "base_uri": "https://localhost:8080/",
          "height": 735
        },
        "id": "4z5XlDvnh4a1",
        "outputId": "06d97a1f-7353-4277-bc90-8ad2833b2cfb"
      },
      "execution_count": 12,
      "outputs": [
        {
          "output_type": "display_data",
          "data": {
            "image/png": "[encoded data removed]",
            "text/plain": [
              "<Figure size 576x396 with 1 Axes>"
            ]
          },
          "metadata": {}
        },
        {
          "output_type": "display_data",
          "data": {
            "image/png": "[encoded data removed]",
            "text/plain": [
              "<Figure size 576x396 with 1 Axes>"
            ]
          },
          "metadata": {}
        }
      ]
    },
    {
      "cell_type": "markdown",
      "source": [
        "From the visualization, highest silhouette score for kmeans seems to be when n_clusters = 2. Furthermore, the inertia seems to slighlty level-off (or we have an 'elbow') when n_cluster = 4. I'll therefore go with n_clusters = 2 for my best kmeans model to maximize the silhouette score."
      ],
      "metadata": {
        "id": "8XHJyl1djB1x"
      }
    },
    {
      "cell_type": "code",
      "source": [
        "#refit model with n_cluster = 2\n",
        "km = KMeans(n_clusters=2, random_state=42)\n",
        "km.fit(scaled_data)"
      ],
      "metadata": {
        "colab": {
          "base_uri": "https://localhost:8080/"
        },
        "id": "uzpJHGY2j3U0",
        "outputId": "410ef088-afa9-4d56-cb83-3428691ccb4e"
      },
      "execution_count": 13,
      "outputs": [
        {
          "output_type": "execute_result",
          "data": {
            "text/plain": [
              "KMeans(n_clusters=2, random_state=42)"
            ]
          },
          "metadata": {},
          "execution_count": 13
        }
      ]
    },
    {
      "cell_type": "code",
      "source": [
        "#create a column for the cluster labels in the dataset\n",
        "df1['cluster'] = km.labels_ "
      ],
      "metadata": {
        "id": "4WDMhDPrTJQB"
      },
      "execution_count": 14,
      "outputs": []
    },
    {
      "cell_type": "code",
      "source": [
        "#Generate visualization to see the clusters based on Average Score and Studied Credit\n",
        "colors = {0: 'blue', 1: 'red'}\n",
        "plt.scatter(df1['studied_credits'], df1['average_score'], c = df1['cluster'].map(colors))\n",
        "plt.ylabel('Average Score')\n",
        "plt.xlabel('Studied Credits')\n",
        "plt.title('Clusters of Average Score by Studied Credits')\n",
        "plt.show()"
      ],
      "metadata": {
        "colab": {
          "base_uri": "https://localhost:8080/",
          "height": 376
        },
        "id": "mJ38KJe5wIBT",
        "outputId": "76758cc0-4615-4409-8d07-e8a4b3b4e3ef"
      },
      "execution_count": 15,
      "outputs": [
        {
          "output_type": "display_data",
          "data": {
            "image/png": "[encoded data removed]",
            "text/plain": [
              "<Figure size 576x396 with 1 Axes>"
            ]
          },
          "metadata": {}
        }
      ]
    },
    {
      "cell_type": "markdown",
      "source": [
        "From the visualization above, it seems the students in cluster 1 (red dots) have average minimum score of above 70 irrespective of amount of studied credit and students in cluster (blue dots) have an average maximum score below 70, irrespecive of studied credits."
      ],
      "metadata": {
        "id": "5B52f9fp6KU0"
      }
    },
    {
      "cell_type": "code",
      "source": [
        "#Generate visualization to see the clusters based on Average Score and IMD Band\n",
        "plt.scatter(df1['imd_band'], df1['average_score'], c = df1['cluster'].map(colors))\n",
        "plt.ylabel('Average Score')\n",
        "plt.xlabel('imd_band')\n",
        "plt.title('Clusters of Average Score by IMD Band')\n",
        "plt.show()"
      ],
      "metadata": {
        "colab": {
          "base_uri": "https://localhost:8080/",
          "height": 376
        },
        "id": "klS19KUMfZwV",
        "outputId": "73f44b1a-ff8a-4c13-8e86-317cda076428"
      },
      "execution_count": 16,
      "outputs": [
        {
          "output_type": "display_data",
          "data": {
            "image/png": "[encoded data removed]",
            "text/plain": [
              "<Figure size 576x396 with 1 Axes>"
            ]
          },
          "metadata": {}
        }
      ]
    },
    {
      "cell_type": "markdown",
      "source": [
        "From the visualization above, it seems the students in cluster 1 (red dots) have average minimum score of above 70 irrespective of IMD band and students in cluster 0 (blue dots) have an average maximum score below 70, irrespective of IMD Band. It seems the average score is important in understanding the cluster. I'll generate a scatterplot of the average score for each cluster to validate."
      ],
      "metadata": {
        "id": "3mRAOLiCli8P"
      }
    },
    {
      "cell_type": "code",
      "source": [
        "plt.scatter(df1['cluster'], df1['average_score'], c = df1['cluster'].map(colors))\n",
        "plt.ylabel('Average Score')\n",
        "plt.xlabel('imd_band')\n",
        "plt.title('Average Score by Cluster')\n",
        "plt.show()"
      ],
      "metadata": {
        "colab": {
          "base_uri": "https://localhost:8080/",
          "height": 376
        },
        "id": "sqYhc0xbneL5",
        "outputId": "d857e9dc-8908-4efd-f6bb-e469ad97b509"
      },
      "execution_count": 17,
      "outputs": [
        {
          "output_type": "display_data",
          "data": {
            "image/png": "[encoded data removed]",
            "text/plain": [
              "<Figure size 576x396 with 1 Axes>"
            ]
          },
          "metadata": {}
        }
      ]
    },
    {
      "cell_type": "markdown",
      "source": [
        "The above plot shows a higher range in the average score for students in cluster 0 (blue dots) than for students in cluster 1 (red dots). However, there's also an overlap of average score between the 2 clusters. Given this overlap in average score, it would be interesing for instance (as a further study) to understand the conditions behind why some students from a deprived neighboorhoods have comparable high average score with students from more privileged neighborhoods. Such a study might reveal intevention programs that might help improve the average score of students from deprived neighborhoods."
      ],
      "metadata": {
        "id": "SD0YRHu4o2fV"
      }
    },
    {
      "cell_type": "markdown",
      "source": [
        "### **Part 2: Modeling**"
      ],
      "metadata": {
        "id": "3WlUolFbm1-q"
      }
    },
    {
      "cell_type": "markdown",
      "source": [
        "**Data Exploration and Processing**"
      ],
      "metadata": {
        "id": "vmJTeUyPBL0M"
      }
    },
    {
      "cell_type": "code",
      "source": [
        "df2 = pd.read_csv('/content/Option_B_modeling.csv')\n",
        "df2.head()"
      ],
      "metadata": {
        "colab": {
          "base_uri": "https://localhost:8080/",
          "height": 300
        },
        "id": "X-l5cg6flA3i",
        "outputId": "4d9c1260-48c6-44e2-dcc3-94c10cd26e6f"
      },
      "execution_count": 18,
      "outputs": [
        {
          "output_type": "execute_result",
          "data": {
            "text/html": [
              "\n",
              "  <div id=\"df-9e2a5310-23b1-4430-8f32-76a9d5698985\">\n",
              "    <div class=\"colab-df-container\">\n",
              "      <div>\n",
              "<style scoped>\n",
              "    .dataframe tbody tr th:only-of-type {\n",
              "        vertical-align: middle;\n",
              "    }\n",
              "\n",
              "    .dataframe tbody tr th {\n",
              "        vertical-align: top;\n",
              "    }\n",
              "\n",
              "    .dataframe thead th {\n",
              "        text-align: right;\n",
              "    }\n",
              "</style>\n",
              "<table border=\"1\" class=\"dataframe\">\n",
              "  <thead>\n",
              "    <tr style=\"text-align: right;\">\n",
              "      <th></th>\n",
              "      <th>gender</th>\n",
              "      <th>highest_education</th>\n",
              "      <th>imd_band</th>\n",
              "      <th>age_band</th>\n",
              "      <th>num_of_prev_attempts</th>\n",
              "      <th>studied_credits</th>\n",
              "      <th>disability</th>\n",
              "      <th>passed_course</th>\n",
              "      <th>assess_score_1</th>\n",
              "      <th>assess_score_2</th>\n",
              "      <th>assess_score_3</th>\n",
              "      <th>assess_score_4</th>\n",
              "      <th>assess_score_5</th>\n",
              "      <th>assess_submitted_1</th>\n",
              "      <th>assess_submitted_2</th>\n",
              "      <th>assess_submitted_3</th>\n",
              "      <th>assess_submitted_4</th>\n",
              "      <th>assess_submitted_5</th>\n",
              "      <th>assess_submitted_6</th>\n",
              "      <th>assess_score_6</th>\n",
              "      <th>assess_submitted_7</th>\n",
              "      <th>assess_score_7</th>\n",
              "      <th>assess_submitted_8</th>\n",
              "      <th>assess_score_8</th>\n",
              "      <th>assess_submitted_9</th>\n",
              "      <th>assess_score_9</th>\n",
              "      <th>assess_submitted_10</th>\n",
              "      <th>assess_score_10</th>\n",
              "      <th>assess_submitted_11</th>\n",
              "      <th>assess_score_11</th>\n",
              "      <th>assess_submitted_12</th>\n",
              "      <th>assess_score_12</th>\n",
              "      <th>assess_submitted_13</th>\n",
              "      <th>assess_score_13</th>\n",
              "      <th>assess_submitted_14</th>\n",
              "      <th>assess_score_14</th>\n",
              "      <th>sum_activities_-25</th>\n",
              "      <th>sum_click_-25</th>\n",
              "      <th>activities_x_clicks_-25</th>\n",
              "      <th>sum_activities_-24</th>\n",
              "      <th>...</th>\n",
              "      <th>sum_activities_260</th>\n",
              "      <th>sum_click_260</th>\n",
              "      <th>activities_x_clicks_260</th>\n",
              "      <th>sum_activities_261</th>\n",
              "      <th>sum_click_261</th>\n",
              "      <th>activities_x_clicks_261</th>\n",
              "      <th>sum_activities_262</th>\n",
              "      <th>sum_click_262</th>\n",
              "      <th>activities_x_clicks_262</th>\n",
              "      <th>sum_activities_263</th>\n",
              "      <th>sum_click_263</th>\n",
              "      <th>activities_x_clicks_263</th>\n",
              "      <th>sum_activities_264</th>\n",
              "      <th>sum_click_264</th>\n",
              "      <th>activities_x_clicks_264</th>\n",
              "      <th>sum_activities_265</th>\n",
              "      <th>sum_click_265</th>\n",
              "      <th>activities_x_clicks_265</th>\n",
              "      <th>sum_activities_266</th>\n",
              "      <th>sum_click_266</th>\n",
              "      <th>activities_x_clicks_266</th>\n",
              "      <th>sum_activities_267</th>\n",
              "      <th>sum_click_267</th>\n",
              "      <th>activities_x_clicks_267</th>\n",
              "      <th>sum_activities_268</th>\n",
              "      <th>sum_click_268</th>\n",
              "      <th>activities_x_clicks_268</th>\n",
              "      <th>module_0</th>\n",
              "      <th>module_AAA</th>\n",
              "      <th>module_BBB</th>\n",
              "      <th>module_CCC</th>\n",
              "      <th>module_DDD</th>\n",
              "      <th>module_EEE</th>\n",
              "      <th>module_FFF</th>\n",
              "      <th>module_GGG</th>\n",
              "      <th>presentation_0</th>\n",
              "      <th>presentation_2013B</th>\n",
              "      <th>presentation_2013J</th>\n",
              "      <th>presentation_2014B</th>\n",
              "      <th>presentation_2014J</th>\n",
              "    </tr>\n",
              "  </thead>\n",
              "  <tbody>\n",
              "    <tr>\n",
              "      <th>0</th>\n",
              "      <td>1</td>\n",
              "      <td>2</td>\n",
              "      <td>9</td>\n",
              "      <td>2</td>\n",
              "      <td>0</td>\n",
              "      <td>240</td>\n",
              "      <td>0</td>\n",
              "      <td>1</td>\n",
              "      <td>78.0</td>\n",
              "      <td>85.0</td>\n",
              "      <td>80.0</td>\n",
              "      <td>85.0</td>\n",
              "      <td>82.0</td>\n",
              "      <td>-1.0</td>\n",
              "      <td>-1.0</td>\n",
              "      <td>-2.0</td>\n",
              "      <td>-2.0</td>\n",
              "      <td>-3.0</td>\n",
              "      <td>0.0</td>\n",
              "      <td>0.0</td>\n",
              "      <td>0.0</td>\n",
              "      <td>0.0</td>\n",
              "      <td>0.0</td>\n",
              "      <td>0.0</td>\n",
              "      <td>0.0</td>\n",
              "      <td>0.0</td>\n",
              "      <td>0.0</td>\n",
              "      <td>0.0</td>\n",
              "      <td>0.0</td>\n",
              "      <td>0.0</td>\n",
              "      <td>0.0</td>\n",
              "      <td>0.0</td>\n",
              "      <td>0.0</td>\n",
              "      <td>0.0</td>\n",
              "      <td>0.0</td>\n",
              "      <td>0.0</td>\n",
              "      <td>0.0</td>\n",
              "      <td>0.0</td>\n",
              "      <td>0.0</td>\n",
              "      <td>0.0</td>\n",
              "      <td>...</td>\n",
              "      <td>0.0</td>\n",
              "      <td>0.0</td>\n",
              "      <td>0.0</td>\n",
              "      <td>0.0</td>\n",
              "      <td>0.0</td>\n",
              "      <td>0.0</td>\n",
              "      <td>0.0</td>\n",
              "      <td>0.0</td>\n",
              "      <td>0.0</td>\n",
              "      <td>0.0</td>\n",
              "      <td>0.0</td>\n",
              "      <td>0.0</td>\n",
              "      <td>0.0</td>\n",
              "      <td>0.0</td>\n",
              "      <td>0.0</td>\n",
              "      <td>0.0</td>\n",
              "      <td>0.0</td>\n",
              "      <td>0.0</td>\n",
              "      <td>0.0</td>\n",
              "      <td>0.0</td>\n",
              "      <td>0.0</td>\n",
              "      <td>0.0</td>\n",
              "      <td>0.0</td>\n",
              "      <td>0.0</td>\n",
              "      <td>0.0</td>\n",
              "      <td>0.0</td>\n",
              "      <td>0.0</td>\n",
              "      <td>0</td>\n",
              "      <td>1</td>\n",
              "      <td>0</td>\n",
              "      <td>0</td>\n",
              "      <td>0</td>\n",
              "      <td>0</td>\n",
              "      <td>0</td>\n",
              "      <td>0</td>\n",
              "      <td>0</td>\n",
              "      <td>0</td>\n",
              "      <td>1</td>\n",
              "      <td>0</td>\n",
              "      <td>0</td>\n",
              "    </tr>\n",
              "    <tr>\n",
              "      <th>1</th>\n",
              "      <td>0</td>\n",
              "      <td>2</td>\n",
              "      <td>2</td>\n",
              "      <td>1</td>\n",
              "      <td>0</td>\n",
              "      <td>60</td>\n",
              "      <td>0</td>\n",
              "      <td>1</td>\n",
              "      <td>70.0</td>\n",
              "      <td>68.0</td>\n",
              "      <td>70.0</td>\n",
              "      <td>64.0</td>\n",
              "      <td>60.0</td>\n",
              "      <td>3.0</td>\n",
              "      <td>-2.0</td>\n",
              "      <td>4.0</td>\n",
              "      <td>-2.0</td>\n",
              "      <td>-3.0</td>\n",
              "      <td>0.0</td>\n",
              "      <td>0.0</td>\n",
              "      <td>0.0</td>\n",
              "      <td>0.0</td>\n",
              "      <td>0.0</td>\n",
              "      <td>0.0</td>\n",
              "      <td>0.0</td>\n",
              "      <td>0.0</td>\n",
              "      <td>0.0</td>\n",
              "      <td>0.0</td>\n",
              "      <td>0.0</td>\n",
              "      <td>0.0</td>\n",
              "      <td>0.0</td>\n",
              "      <td>0.0</td>\n",
              "      <td>0.0</td>\n",
              "      <td>0.0</td>\n",
              "      <td>0.0</td>\n",
              "      <td>0.0</td>\n",
              "      <td>0.0</td>\n",
              "      <td>0.0</td>\n",
              "      <td>0.0</td>\n",
              "      <td>0.0</td>\n",
              "      <td>...</td>\n",
              "      <td>0.0</td>\n",
              "      <td>0.0</td>\n",
              "      <td>0.0</td>\n",
              "      <td>0.0</td>\n",
              "      <td>0.0</td>\n",
              "      <td>0.0</td>\n",
              "      <td>0.0</td>\n",
              "      <td>0.0</td>\n",
              "      <td>0.0</td>\n",
              "      <td>0.0</td>\n",
              "      <td>0.0</td>\n",
              "      <td>0.0</td>\n",
              "      <td>0.0</td>\n",
              "      <td>0.0</td>\n",
              "      <td>0.0</td>\n",
              "      <td>0.0</td>\n",
              "      <td>0.0</td>\n",
              "      <td>0.0</td>\n",
              "      <td>0.0</td>\n",
              "      <td>0.0</td>\n",
              "      <td>0.0</td>\n",
              "      <td>0.0</td>\n",
              "      <td>0.0</td>\n",
              "      <td>0.0</td>\n",
              "      <td>0.0</td>\n",
              "      <td>0.0</td>\n",
              "      <td>0.0</td>\n",
              "      <td>0</td>\n",
              "      <td>1</td>\n",
              "      <td>0</td>\n",
              "      <td>0</td>\n",
              "      <td>0</td>\n",
              "      <td>0</td>\n",
              "      <td>0</td>\n",
              "      <td>0</td>\n",
              "      <td>0</td>\n",
              "      <td>0</td>\n",
              "      <td>1</td>\n",
              "      <td>0</td>\n",
              "      <td>0</td>\n",
              "    </tr>\n",
              "    <tr>\n",
              "      <th>2</th>\n",
              "      <td>0</td>\n",
              "      <td>3</td>\n",
              "      <td>5</td>\n",
              "      <td>1</td>\n",
              "      <td>0</td>\n",
              "      <td>60</td>\n",
              "      <td>0</td>\n",
              "      <td>1</td>\n",
              "      <td>72.0</td>\n",
              "      <td>71.0</td>\n",
              "      <td>74.0</td>\n",
              "      <td>88.0</td>\n",
              "      <td>75.0</td>\n",
              "      <td>-2.0</td>\n",
              "      <td>-3.0</td>\n",
              "      <td>-2.0</td>\n",
              "      <td>-1.0</td>\n",
              "      <td>-2.0</td>\n",
              "      <td>0.0</td>\n",
              "      <td>0.0</td>\n",
              "      <td>0.0</td>\n",
              "      <td>0.0</td>\n",
              "      <td>0.0</td>\n",
              "      <td>0.0</td>\n",
              "      <td>0.0</td>\n",
              "      <td>0.0</td>\n",
              "      <td>0.0</td>\n",
              "      <td>0.0</td>\n",
              "      <td>0.0</td>\n",
              "      <td>0.0</td>\n",
              "      <td>0.0</td>\n",
              "      <td>0.0</td>\n",
              "      <td>0.0</td>\n",
              "      <td>0.0</td>\n",
              "      <td>0.0</td>\n",
              "      <td>0.0</td>\n",
              "      <td>0.0</td>\n",
              "      <td>0.0</td>\n",
              "      <td>0.0</td>\n",
              "      <td>0.0</td>\n",
              "      <td>...</td>\n",
              "      <td>0.0</td>\n",
              "      <td>0.0</td>\n",
              "      <td>0.0</td>\n",
              "      <td>1.0</td>\n",
              "      <td>1.0</td>\n",
              "      <td>1.0</td>\n",
              "      <td>0.0</td>\n",
              "      <td>0.0</td>\n",
              "      <td>0.0</td>\n",
              "      <td>0.0</td>\n",
              "      <td>0.0</td>\n",
              "      <td>0.0</td>\n",
              "      <td>1.0</td>\n",
              "      <td>1.0</td>\n",
              "      <td>1.0</td>\n",
              "      <td>0.0</td>\n",
              "      <td>0.0</td>\n",
              "      <td>0.0</td>\n",
              "      <td>0.0</td>\n",
              "      <td>0.0</td>\n",
              "      <td>0.0</td>\n",
              "      <td>0.0</td>\n",
              "      <td>0.0</td>\n",
              "      <td>0.0</td>\n",
              "      <td>0.0</td>\n",
              "      <td>0.0</td>\n",
              "      <td>0.0</td>\n",
              "      <td>0</td>\n",
              "      <td>1</td>\n",
              "      <td>0</td>\n",
              "      <td>0</td>\n",
              "      <td>0</td>\n",
              "      <td>0</td>\n",
              "      <td>0</td>\n",
              "      <td>0</td>\n",
              "      <td>0</td>\n",
              "      <td>0</td>\n",
              "      <td>1</td>\n",
              "      <td>0</td>\n",
              "      <td>0</td>\n",
              "    </tr>\n",
              "    <tr>\n",
              "      <th>3</th>\n",
              "      <td>0</td>\n",
              "      <td>1</td>\n",
              "      <td>5</td>\n",
              "      <td>0</td>\n",
              "      <td>0</td>\n",
              "      <td>60</td>\n",
              "      <td>0</td>\n",
              "      <td>1</td>\n",
              "      <td>69.0</td>\n",
              "      <td>30.0</td>\n",
              "      <td>63.0</td>\n",
              "      <td>35.0</td>\n",
              "      <td>75.0</td>\n",
              "      <td>7.0</td>\n",
              "      <td>21.0</td>\n",
              "      <td>7.0</td>\n",
              "      <td>15.0</td>\n",
              "      <td>7.0</td>\n",
              "      <td>0.0</td>\n",
              "      <td>0.0</td>\n",
              "      <td>0.0</td>\n",
              "      <td>0.0</td>\n",
              "      <td>0.0</td>\n",
              "      <td>0.0</td>\n",
              "      <td>0.0</td>\n",
              "      <td>0.0</td>\n",
              "      <td>0.0</td>\n",
              "      <td>0.0</td>\n",
              "      <td>0.0</td>\n",
              "      <td>0.0</td>\n",
              "      <td>0.0</td>\n",
              "      <td>0.0</td>\n",
              "      <td>0.0</td>\n",
              "      <td>0.0</td>\n",
              "      <td>0.0</td>\n",
              "      <td>0.0</td>\n",
              "      <td>0.0</td>\n",
              "      <td>0.0</td>\n",
              "      <td>0.0</td>\n",
              "      <td>0.0</td>\n",
              "      <td>...</td>\n",
              "      <td>0.0</td>\n",
              "      <td>0.0</td>\n",
              "      <td>0.0</td>\n",
              "      <td>0.0</td>\n",
              "      <td>0.0</td>\n",
              "      <td>0.0</td>\n",
              "      <td>0.0</td>\n",
              "      <td>0.0</td>\n",
              "      <td>0.0</td>\n",
              "      <td>0.0</td>\n",
              "      <td>0.0</td>\n",
              "      <td>0.0</td>\n",
              "      <td>0.0</td>\n",
              "      <td>0.0</td>\n",
              "      <td>0.0</td>\n",
              "      <td>0.0</td>\n",
              "      <td>0.0</td>\n",
              "      <td>0.0</td>\n",
              "      <td>0.0</td>\n",
              "      <td>0.0</td>\n",
              "      <td>0.0</td>\n",
              "      <td>0.0</td>\n",
              "      <td>0.0</td>\n",
              "      <td>0.0</td>\n",
              "      <td>0.0</td>\n",
              "      <td>0.0</td>\n",
              "      <td>0.0</td>\n",
              "      <td>0</td>\n",
              "      <td>1</td>\n",
              "      <td>0</td>\n",
              "      <td>0</td>\n",
              "      <td>0</td>\n",
              "      <td>0</td>\n",
              "      <td>0</td>\n",
              "      <td>0</td>\n",
              "      <td>0</td>\n",
              "      <td>0</td>\n",
              "      <td>1</td>\n",
              "      <td>0</td>\n",
              "      <td>0</td>\n",
              "    </tr>\n",
              "    <tr>\n",
              "      <th>4</th>\n",
              "      <td>1</td>\n",
              "      <td>2</td>\n",
              "      <td>3</td>\n",
              "      <td>0</td>\n",
              "      <td>0</td>\n",
              "      <td>60</td>\n",
              "      <td>0</td>\n",
              "      <td>1</td>\n",
              "      <td>70.0</td>\n",
              "      <td>65.0</td>\n",
              "      <td>62.0</td>\n",
              "      <td>75.0</td>\n",
              "      <td>68.0</td>\n",
              "      <td>1.0</td>\n",
              "      <td>0.0</td>\n",
              "      <td>0.0</td>\n",
              "      <td>0.0</td>\n",
              "      <td>1.0</td>\n",
              "      <td>0.0</td>\n",
              "      <td>0.0</td>\n",
              "      <td>0.0</td>\n",
              "      <td>0.0</td>\n",
              "      <td>0.0</td>\n",
              "      <td>0.0</td>\n",
              "      <td>0.0</td>\n",
              "      <td>0.0</td>\n",
              "      <td>0.0</td>\n",
              "      <td>0.0</td>\n",
              "      <td>0.0</td>\n",
              "      <td>0.0</td>\n",
              "      <td>0.0</td>\n",
              "      <td>0.0</td>\n",
              "      <td>0.0</td>\n",
              "      <td>0.0</td>\n",
              "      <td>0.0</td>\n",
              "      <td>0.0</td>\n",
              "      <td>0.0</td>\n",
              "      <td>0.0</td>\n",
              "      <td>0.0</td>\n",
              "      <td>0.0</td>\n",
              "      <td>...</td>\n",
              "      <td>0.0</td>\n",
              "      <td>0.0</td>\n",
              "      <td>0.0</td>\n",
              "      <td>0.0</td>\n",
              "      <td>0.0</td>\n",
              "      <td>0.0</td>\n",
              "      <td>0.0</td>\n",
              "      <td>0.0</td>\n",
              "      <td>0.0</td>\n",
              "      <td>0.0</td>\n",
              "      <td>0.0</td>\n",
              "      <td>0.0</td>\n",
              "      <td>0.0</td>\n",
              "      <td>0.0</td>\n",
              "      <td>0.0</td>\n",
              "      <td>0.0</td>\n",
              "      <td>0.0</td>\n",
              "      <td>0.0</td>\n",
              "      <td>0.0</td>\n",
              "      <td>0.0</td>\n",
              "      <td>0.0</td>\n",
              "      <td>1.0</td>\n",
              "      <td>1.0</td>\n",
              "      <td>1.0</td>\n",
              "      <td>0.0</td>\n",
              "      <td>0.0</td>\n",
              "      <td>0.0</td>\n",
              "      <td>0</td>\n",
              "      <td>1</td>\n",
              "      <td>0</td>\n",
              "      <td>0</td>\n",
              "      <td>0</td>\n",
              "      <td>0</td>\n",
              "      <td>0</td>\n",
              "      <td>0</td>\n",
              "      <td>0</td>\n",
              "      <td>0</td>\n",
              "      <td>1</td>\n",
              "      <td>0</td>\n",
              "      <td>0</td>\n",
              "    </tr>\n",
              "  </tbody>\n",
              "</table>\n",
              "<p>5 rows × 931 columns</p>\n",
              "</div>\n",
              "      <button class=\"colab-df-convert\" onclick=\"convertToInteractive('df-9e2a5310-23b1-4430-8f32-76a9d5698985')\"\n",
              "              title=\"Convert this dataframe to an interactive table.\"\n",
              "              style=\"display:none;\">\n",
              "        \n",
              "  <svg xmlns=\"http://www.w3.org/2000/svg\" height=\"24px\"viewBox=\"0 0 24 24\"\n",
              "       width=\"24px\">\n",
              "    <path d=\"M0 0h24v24H0V0z\" fill=\"none\"/>\n",
              "    <path d=\"M18.56 5.44l.94 2.06.94-2.06 2.06-.94-2.06-.94-.94-2.06-.94 2.06-2.06.94zm-11 1L8.5 8.5l.94-2.06 2.06-.94-2.06-.94L8.5 2.5l-.94 2.06-2.06.94zm10 10l.94 2.06.94-2.06 2.06-.94-2.06-.94-.94-2.06-.94 2.06-2.06.94z\"/><path d=\"M17.41 7.96l-1.37-1.37c-.4-.4-.92-.59-1.43-.59-.52 0-1.04.2-1.43.59L10.3 9.45l-7.72 7.72c-.78.78-.78 2.05 0 2.83L4 21.41c.39.39.9.59 1.41.59.51 0 1.02-.2 1.41-.59l7.78-7.78 2.81-2.81c.8-.78.8-2.07 0-2.86zM5.41 20L4 18.59l7.72-7.72 1.47 1.35L5.41 20z\"/>\n",
              "  </svg>\n",
              "      </button>\n",
              "      \n",
              "  <style>\n",
              "    .colab-df-container {\n",
              "      display:flex;\n",
              "      flex-wrap:wrap;\n",
              "      gap: 12px;\n",
              "    }\n",
              "\n",
              "    .colab-df-convert {\n",
              "      background-color: #E8F0FE;\n",
              "      border: none;\n",
              "      border-radius: 50%;\n",
              "      cursor: pointer;\n",
              "      display: none;\n",
              "      fill: #1967D2;\n",
              "      height: 32px;\n",
              "      padding: 0 0 0 0;\n",
              "      width: 32px;\n",
              "    }\n",
              "\n",
              "    .colab-df-convert:hover {\n",
              "      background-color: #E2EBFA;\n",
              "      box-shadow: 0px 1px 2px rgba(60, 64, 67, 0.3), 0px 1px 3px 1px rgba(60, 64, 67, 0.15);\n",
              "      fill: #174EA6;\n",
              "    }\n",
              "\n",
              "    [theme=dark] .colab-df-convert {\n",
              "      background-color: #3B4455;\n",
              "      fill: #D2E3FC;\n",
              "    }\n",
              "\n",
              "    [theme=dark] .colab-df-convert:hover {\n",
              "      background-color: #434B5C;\n",
              "      box-shadow: 0px 1px 3px 1px rgba(0, 0, 0, 0.15);\n",
              "      filter: drop-shadow(0px 1px 2px rgba(0, 0, 0, 0.3));\n",
              "      fill: #FFFFFF;\n",
              "    }\n",
              "  </style>\n",
              "\n",
              "      <script>\n",
              "        const buttonEl =\n",
              "          document.querySelector('#df-9e2a5310-23b1-4430-8f32-76a9d5698985 button.colab-df-convert');\n",
              "        buttonEl.style.display =\n",
              "          google.colab.kernel.accessAllowed ? 'block' : 'none';\n",
              "\n",
              "        async function convertToInteractive(key) {\n",
              "          const element = document.querySelector('#df-9e2a5310-23b1-4430-8f32-76a9d5698985');\n",
              "          const dataTable =\n",
              "            await google.colab.kernel.invokeFunction('convertToInteractive',\n",
              "                                                     [key], {});\n",
              "          if (!dataTable) return;\n",
              "\n",
              "          const docLinkHtml = 'Like what you see? Visit the ' +\n",
              "            '<a target=\"_blank\" href=https://colab.research.google.com/notebooks/data_table.ipynb>data table notebook</a>'\n",
              "            + ' to learn more about interactive tables.';\n",
              "          element.innerHTML = '';\n",
              "          dataTable['output_type'] = 'display_data';\n",
              "          await google.colab.output.renderOutput(dataTable, element);\n",
              "          const docLink = document.createElement('div');\n",
              "          docLink.innerHTML = docLinkHtml;\n",
              "          element.appendChild(docLink);\n",
              "        }\n",
              "      </script>\n",
              "    </div>\n",
              "  </div>\n",
              "  "
            ],
            "text/plain": [
              "   gender  highest_education  ...  presentation_2014B  presentation_2014J\n",
              "0       1                  2  ...                   0                   0\n",
              "1       0                  2  ...                   0                   0\n",
              "2       0                  3  ...                   0                   0\n",
              "3       0                  1  ...                   0                   0\n",
              "4       1                  2  ...                   0                   0\n",
              "\n",
              "[5 rows x 931 columns]"
            ]
          },
          "metadata": {},
          "execution_count": 18
        }
      ]
    },
    {
      "cell_type": "code",
      "source": [
        "#split data into X and y variables\n",
        "X = df2.drop(columns=['passed_course'])\n",
        "y = df2['passed_course']"
      ],
      "metadata": {
        "id": "thcpJHlLD0FB"
      },
      "execution_count": 19,
      "outputs": []
    },
    {
      "cell_type": "code",
      "source": [
        "#test train split\n",
        "X_train, X_test, y_train, y_test = train_test_split(X, y, test_size=0.2, random_state=42)"
      ],
      "metadata": {
        "id": "G8q1zrRGEKMI"
      },
      "execution_count": 20,
      "outputs": []
    },
    {
      "cell_type": "code",
      "source": [
        "#convert data to numpy arrays so as to be able to feed it into a neural network\n",
        "my_data = (X_train, X_test, y_train, y_test)\n",
        "for i in my_data:\n",
        "  i = i.to_numpy()"
      ],
      "metadata": {
        "id": "Fo7c_rNJI336"
      },
      "execution_count": 21,
      "outputs": []
    },
    {
      "cell_type": "code",
      "source": [
        "#instantiate standard scaler and scale date\n",
        "scaler = StandardScaler()\n",
        "X_train = scaler.fit_transform(X_train)\n",
        "X_test = scaler.transform(X_test)"
      ],
      "metadata": {
        "id": "MVx0v3bZIqKv"
      },
      "execution_count": 22,
      "outputs": []
    },
    {
      "cell_type": "code",
      "source": [
        "#instantiate and fit PCA to leverage components that explains 95% of the variance in the data\n",
        "pca = PCA(n_components=0.95)\n",
        "X_train = pca.fit_transform(X_train)\n",
        "X_test = pca.transform(X_test)"
      ],
      "metadata": {
        "id": "tj41xQCCEwdS"
      },
      "execution_count": 23,
      "outputs": []
    },
    {
      "cell_type": "code",
      "source": [
        "#get number of components after PCA\n",
        "print('Number of components after PCA is', X_train.shape[1])"
      ],
      "metadata": {
        "colab": {
          "base_uri": "https://localhost:8080/"
        },
        "id": "Cf8WVc62K8QN",
        "outputId": "457b41af-755a-4b89-d11c-22180e83ca9a"
      },
      "execution_count": 24,
      "outputs": [
        {
          "output_type": "stream",
          "name": "stdout",
          "text": [
            "Number of components after PCA is 493\n"
          ]
        }
      ]
    },
    {
      "cell_type": "markdown",
      "source": [
        "**Modeling**"
      ],
      "metadata": {
        "id": "ZKBCuT6mKfi1"
      }
    },
    {
      "cell_type": "code",
      "source": [
        "#Plotting model performance for evaluation. Code adapted from class material of week 11\n",
        "def plot_history(history, metric=None):\n",
        "  fig, axes = plt.subplots(2,1, figsize = (5,10))\n",
        "  axes[0].plot(history.history['loss'], label = 'train')\n",
        "  axes[0].plot(history.history['val_loss'], label='test')\n",
        "  axes[0].set_title('Loss')\n",
        "  axes[0].set_xlabel('epochs')\n",
        "  axes[0].legend()\n",
        "  if metric:\n",
        "    axes[1].plot(history.history[metric], label = 'train')\n",
        "    axes[1].plot(history.history['val_' + metric], label = 'test')\n",
        "    axes[1].set_title(metric)\n",
        "    axes[1].set_xlabel('epochs')\n",
        "    axes[1].legend()\n",
        "\n",
        "  plt.show()"
      ],
      "metadata": {
        "id": "U4QCLo9RRmCi"
      },
      "execution_count": 25,
      "outputs": []
    },
    {
      "cell_type": "markdown",
      "source": [
        "Model 1"
      ],
      "metadata": {
        "id": "ytRmWOCsSJ4h"
      }
    },
    {
      "cell_type": "code",
      "source": [
        "#define model\n",
        "model1 = Sequential()\n",
        "\n",
        "#instantiate input shape\n",
        "input_shape = X_train.shape[1]"
      ],
      "metadata": {
        "id": "ltP_J71-Lc9-"
      },
      "execution_count": 26,
      "outputs": []
    },
    {
      "cell_type": "code",
      "source": [
        "#define model architecture. \n",
        "model1.add(layers.Dense(32, \n",
        "                       activation='relu',\n",
        "                       input_shape=(input_shape,)))\n",
        "model1.add(layers.Dense(16,\n",
        "                       activation='relu'))\n",
        "model1.add(layers.Dense(16,\n",
        "                       activation='relu'))\n",
        "model1.add(layers.Dense(1, activation='sigmoid'))"
      ],
      "metadata": {
        "id": "8y06TCxxLw71"
      },
      "execution_count": 27,
      "outputs": []
    },
    {
      "cell_type": "code",
      "source": [
        "#compile model\n",
        "model1.compile(optimizer='adam',\n",
        "              loss='binary_crossentropy',\n",
        "              metrics=['acc'])"
      ],
      "metadata": {
        "id": "W6kVkXPDSgc7"
      },
      "execution_count": 28,
      "outputs": []
    },
    {
      "cell_type": "code",
      "source": [
        "#fit model\n",
        "history = model1.fit(X_train, y_train,\n",
        "                    validation_data=(X_test, y_test),\n",
        "                    epochs=50)"
      ],
      "metadata": {
        "colab": {
          "base_uri": "https://localhost:8080/"
        },
        "id": "1zVUAtAySvl_",
        "outputId": "5a6befe4-1282-4e28-861d-4a9657f943c9"
      },
      "execution_count": 29,
      "outputs": [
        {
          "output_type": "stream",
          "name": "stdout",
          "text": [
            "Epoch 1/50\n",
            "319/319 [==============================] - 2s 3ms/step - loss: 0.4279 - acc: 0.8116 - val_loss: 0.3625 - val_acc: 0.8638\n",
            "Epoch 2/50\n",
            "319/319 [==============================] - 1s 3ms/step - loss: 0.2927 - acc: 0.8799 - val_loss: 0.3501 - val_acc: 0.8638\n",
            "Epoch 3/50\n",
            "319/319 [==============================] - 1s 3ms/step - loss: 0.2428 - acc: 0.9042 - val_loss: 0.3683 - val_acc: 0.8642\n",
            "Epoch 4/50\n",
            "319/319 [==============================] - 1s 2ms/step - loss: 0.2071 - acc: 0.9190 - val_loss: 0.3939 - val_acc: 0.8717\n",
            "Epoch 5/50\n",
            "319/319 [==============================] - 1s 3ms/step - loss: 0.1777 - acc: 0.9319 - val_loss: 0.4545 - val_acc: 0.8528\n",
            "Epoch 6/50\n",
            "319/319 [==============================] - 1s 3ms/step - loss: 0.1548 - acc: 0.9421 - val_loss: 0.4755 - val_acc: 0.8540\n",
            "Epoch 7/50\n",
            "319/319 [==============================] - 1s 3ms/step - loss: 0.1243 - acc: 0.9530 - val_loss: 0.5591 - val_acc: 0.8509\n",
            "Epoch 8/50\n",
            "319/319 [==============================] - 1s 3ms/step - loss: 0.1031 - acc: 0.9619 - val_loss: 0.6532 - val_acc: 0.8532\n",
            "Epoch 9/50\n",
            "319/319 [==============================] - 1s 3ms/step - loss: 0.1086 - acc: 0.9581 - val_loss: 0.7124 - val_acc: 0.8560\n",
            "Epoch 10/50\n",
            "319/319 [==============================] - 1s 3ms/step - loss: 0.0825 - acc: 0.9711 - val_loss: 0.7709 - val_acc: 0.8544\n",
            "Epoch 11/50\n",
            "319/319 [==============================] - 1s 3ms/step - loss: 0.0608 - acc: 0.9793 - val_loss: 0.8518 - val_acc: 0.8509\n",
            "Epoch 12/50\n",
            "319/319 [==============================] - 1s 3ms/step - loss: 0.0682 - acc: 0.9770 - val_loss: 0.9117 - val_acc: 0.8462\n",
            "Epoch 13/50\n",
            "319/319 [==============================] - 1s 3ms/step - loss: 0.0556 - acc: 0.9830 - val_loss: 0.9980 - val_acc: 0.8501\n",
            "Epoch 14/50\n",
            "319/319 [==============================] - 1s 3ms/step - loss: 0.0514 - acc: 0.9837 - val_loss: 1.1554 - val_acc: 0.8434\n",
            "Epoch 15/50\n",
            "319/319 [==============================] - 1s 2ms/step - loss: 0.0449 - acc: 0.9852 - val_loss: 1.2113 - val_acc: 0.8356\n",
            "Epoch 16/50\n",
            "319/319 [==============================] - 1s 2ms/step - loss: 0.0566 - acc: 0.9850 - val_loss: 1.1742 - val_acc: 0.8359\n",
            "Epoch 17/50\n",
            "319/319 [==============================] - 1s 2ms/step - loss: 0.0372 - acc: 0.9895 - val_loss: 1.2648 - val_acc: 0.8430\n",
            "Epoch 18/50\n",
            "319/319 [==============================] - 1s 3ms/step - loss: 0.0331 - acc: 0.9909 - val_loss: 1.3887 - val_acc: 0.8524\n",
            "Epoch 19/50\n",
            "319/319 [==============================] - 1s 3ms/step - loss: 0.0523 - acc: 0.9865 - val_loss: 1.2802 - val_acc: 0.8524\n",
            "Epoch 20/50\n",
            "319/319 [==============================] - 1s 3ms/step - loss: 0.0283 - acc: 0.9928 - val_loss: 1.3606 - val_acc: 0.8485\n",
            "Epoch 21/50\n",
            "319/319 [==============================] - 1s 2ms/step - loss: 0.0144 - acc: 0.9971 - val_loss: 1.4445 - val_acc: 0.8438\n",
            "Epoch 22/50\n",
            "319/319 [==============================] - 1s 3ms/step - loss: 0.0092 - acc: 0.9984 - val_loss: 1.5549 - val_acc: 0.8481\n",
            "Epoch 23/50\n",
            "319/319 [==============================] - 1s 3ms/step - loss: 0.0065 - acc: 0.9989 - val_loss: 1.6466 - val_acc: 0.8509\n",
            "Epoch 24/50\n",
            "319/319 [==============================] - 1s 3ms/step - loss: 0.0050 - acc: 0.9992 - val_loss: 1.7552 - val_acc: 0.8509\n",
            "Epoch 25/50\n",
            "319/319 [==============================] - 1s 3ms/step - loss: 0.0041 - acc: 0.9996 - val_loss: 1.8158 - val_acc: 0.8473\n",
            "Epoch 26/50\n",
            "319/319 [==============================] - 1s 2ms/step - loss: 0.0040 - acc: 0.9997 - val_loss: 1.9039 - val_acc: 0.8524\n",
            "Epoch 27/50\n",
            "319/319 [==============================] - 1s 3ms/step - loss: 0.0028 - acc: 0.9997 - val_loss: 1.9602 - val_acc: 0.8493\n",
            "Epoch 28/50\n",
            "319/319 [==============================] - 1s 3ms/step - loss: 0.0022 - acc: 0.9997 - val_loss: 2.0545 - val_acc: 0.8509\n",
            "Epoch 29/50\n",
            "319/319 [==============================] - 1s 3ms/step - loss: 0.0018 - acc: 0.9997 - val_loss: 2.1216 - val_acc: 0.8505\n",
            "Epoch 30/50\n",
            "319/319 [==============================] - 1s 3ms/step - loss: 0.0015 - acc: 0.9997 - val_loss: 2.1955 - val_acc: 0.8513\n",
            "Epoch 31/50\n",
            "319/319 [==============================] - 1s 2ms/step - loss: 0.0805 - acc: 0.9806 - val_loss: 1.6072 - val_acc: 0.8175\n",
            "Epoch 32/50\n",
            "319/319 [==============================] - 1s 3ms/step - loss: 0.1501 - acc: 0.9572 - val_loss: 1.1622 - val_acc: 0.8363\n",
            "Epoch 33/50\n",
            "319/319 [==============================] - 1s 3ms/step - loss: 0.0415 - acc: 0.9888 - val_loss: 1.2679 - val_acc: 0.8356\n",
            "Epoch 34/50\n",
            "319/319 [==============================] - 1s 3ms/step - loss: 0.0156 - acc: 0.9972 - val_loss: 1.4169 - val_acc: 0.8371\n",
            "Epoch 35/50\n",
            "319/319 [==============================] - 1s 2ms/step - loss: 0.0084 - acc: 0.9991 - val_loss: 1.5172 - val_acc: 0.8356\n",
            "Epoch 36/50\n",
            "319/319 [==============================] - 1s 2ms/step - loss: 0.0057 - acc: 0.9995 - val_loss: 1.6193 - val_acc: 0.8359\n",
            "Epoch 37/50\n",
            "319/319 [==============================] - 1s 3ms/step - loss: 0.0043 - acc: 0.9996 - val_loss: 1.7046 - val_acc: 0.8371\n",
            "Epoch 38/50\n",
            "319/319 [==============================] - 1s 3ms/step - loss: 0.0034 - acc: 0.9996 - val_loss: 1.7934 - val_acc: 0.8383\n",
            "Epoch 39/50\n",
            "319/319 [==============================] - 1s 2ms/step - loss: 0.0027 - acc: 0.9996 - val_loss: 1.8694 - val_acc: 0.8383\n",
            "Epoch 40/50\n",
            "319/319 [==============================] - 1s 2ms/step - loss: 0.0023 - acc: 0.9996 - val_loss: 1.9499 - val_acc: 0.8399\n",
            "Epoch 41/50\n",
            "319/319 [==============================] - 1s 2ms/step - loss: 0.0023 - acc: 0.9997 - val_loss: 2.0046 - val_acc: 0.8383\n",
            "Epoch 42/50\n",
            "319/319 [==============================] - 1s 3ms/step - loss: 0.0038 - acc: 0.9994 - val_loss: 2.0722 - val_acc: 0.8305\n",
            "Epoch 43/50\n",
            "319/319 [==============================] - 1s 3ms/step - loss: 0.0765 - acc: 0.9778 - val_loss: 1.6984 - val_acc: 0.8340\n",
            "Epoch 44/50\n",
            "319/319 [==============================] - 1s 3ms/step - loss: 0.0751 - acc: 0.9792 - val_loss: 1.5723 - val_acc: 0.8454\n",
            "Epoch 45/50\n",
            "319/319 [==============================] - 1s 3ms/step - loss: 0.0286 - acc: 0.9924 - val_loss: 1.6857 - val_acc: 0.8336\n",
            "Epoch 46/50\n",
            "319/319 [==============================] - 1s 3ms/step - loss: 0.0136 - acc: 0.9974 - val_loss: 1.7727 - val_acc: 0.8367\n",
            "Epoch 47/50\n",
            "319/319 [==============================] - 1s 3ms/step - loss: 0.0070 - acc: 0.9992 - val_loss: 1.8286 - val_acc: 0.8352\n",
            "Epoch 48/50\n",
            "319/319 [==============================] - 1s 3ms/step - loss: 0.0063 - acc: 0.9993 - val_loss: 1.8896 - val_acc: 0.8336\n",
            "Epoch 49/50\n",
            "319/319 [==============================] - 1s 3ms/step - loss: 0.0037 - acc: 0.9994 - val_loss: 1.9631 - val_acc: 0.8363\n",
            "Epoch 50/50\n",
            "319/319 [==============================] - 1s 3ms/step - loss: 0.0023 - acc: 0.9997 - val_loss: 2.0282 - val_acc: 0.8359\n"
          ]
        }
      ]
    },
    {
      "cell_type": "code",
      "source": [
        "#evaluate how Model 1 is doing \n",
        "plot_history(history, 'acc')"
      ],
      "metadata": {
        "colab": {
          "base_uri": "https://localhost:8080/",
          "height": 620
        },
        "id": "2h6p4ZZFZWy6",
        "outputId": "f0dae303-d3bf-47d0-c319-eb5d79d90e50"
      },
      "execution_count": 30,
      "outputs": [
        {
          "output_type": "display_data",
          "data": {
            "image/png": "[encoded data removed]",
            "text/plain": [
              "<Figure size 360x720 with 2 Axes>"
            ]
          },
          "metadata": {}
        }
      ]
    },
    {
      "cell_type": "markdown",
      "source": [
        "From the plot above, the model is badly overfitting. At right about 30 epochs, it seems training accuracy seems to peak, and training loss seems to flatten.\n",
        "\n",
        "\n",
        "\n",
        "\n",
        "\n"
      ],
      "metadata": {
        "id": "fWwFoM0ndnQQ"
      }
    },
    {
      "cell_type": "markdown",
      "source": [
        "Model 2"
      ],
      "metadata": {
        "id": "yDKimNCPp41P"
      }
    },
    {
      "cell_type": "markdown",
      "source": [
        "For model 2: I'll reduce the model complexity by dropping a layer and training for 30 epochs."
      ],
      "metadata": {
        "id": "Rk1GP0qk1Oto"
      }
    },
    {
      "cell_type": "code",
      "source": [
        "#define model\n",
        "model2 = Sequential()"
      ],
      "metadata": {
        "id": "lfieVq320o7G"
      },
      "execution_count": 31,
      "outputs": []
    },
    {
      "cell_type": "code",
      "source": [
        "#define model architecture. \n",
        "model2.add(layers.Dense(64, \n",
        "                       activation='relu',\n",
        "                       input_shape=(input_shape,)))\n",
        "model2.add(layers.Dense(64,\n",
        "                       activation='relu'))\n",
        "model2.add(layers.Dense(1, activation='sigmoid'))"
      ],
      "metadata": {
        "id": "Mpr8xYtE1IwF"
      },
      "execution_count": 32,
      "outputs": []
    },
    {
      "cell_type": "code",
      "source": [
        "#compile model\n",
        "model2.compile(optimizer='adam',\n",
        "              loss='binary_crossentropy',\n",
        "              metrics=['acc'])"
      ],
      "metadata": {
        "id": "nnr7c5Hs2v-2"
      },
      "execution_count": 33,
      "outputs": []
    },
    {
      "cell_type": "code",
      "source": [
        "#fit Model 2 with 30 epochs\n",
        "history_2 = model2.fit(X_train, y_train,\n",
        "                    validation_data=(X_test, y_test),\n",
        "                    epochs=30)"
      ],
      "metadata": {
        "colab": {
          "base_uri": "https://localhost:8080/"
        },
        "id": "xwiS5aoseP2X",
        "outputId": "935075ec-c885-4079-d4ca-d4bb56ae8179"
      },
      "execution_count": 34,
      "outputs": [
        {
          "output_type": "stream",
          "name": "stdout",
          "text": [
            "Epoch 1/30\n",
            "319/319 [==============================] - 1s 3ms/step - loss: 0.3967 - acc: 0.8371 - val_loss: 0.3679 - val_acc: 0.8642\n",
            "Epoch 2/30\n",
            "319/319 [==============================] - 2s 5ms/step - loss: 0.2738 - acc: 0.8899 - val_loss: 0.3564 - val_acc: 0.8662\n",
            "Epoch 3/30\n",
            "319/319 [==============================] - 1s 4ms/step - loss: 0.2265 - acc: 0.9112 - val_loss: 0.3717 - val_acc: 0.8650\n",
            "Epoch 4/30\n",
            "319/319 [==============================] - 1s 3ms/step - loss: 0.1835 - acc: 0.9286 - val_loss: 0.4098 - val_acc: 0.8673\n",
            "Epoch 5/30\n",
            "319/319 [==============================] - 1s 3ms/step - loss: 0.1492 - acc: 0.9428 - val_loss: 0.4783 - val_acc: 0.8469\n",
            "Epoch 6/30\n",
            "319/319 [==============================] - 1s 3ms/step - loss: 0.1165 - acc: 0.9586 - val_loss: 0.5277 - val_acc: 0.8513\n",
            "Epoch 7/30\n",
            "319/319 [==============================] - 1s 2ms/step - loss: 0.0908 - acc: 0.9681 - val_loss: 0.6532 - val_acc: 0.8599\n",
            "Epoch 8/30\n",
            "319/319 [==============================] - 1s 3ms/step - loss: 0.0805 - acc: 0.9707 - val_loss: 0.6382 - val_acc: 0.8520\n",
            "Epoch 9/30\n",
            "319/319 [==============================] - 1s 3ms/step - loss: 0.0601 - acc: 0.9829 - val_loss: 0.7257 - val_acc: 0.8544\n",
            "Epoch 10/30\n",
            "319/319 [==============================] - 1s 3ms/step - loss: 0.0545 - acc: 0.9842 - val_loss: 0.7822 - val_acc: 0.8528\n",
            "Epoch 11/30\n",
            "319/319 [==============================] - 1s 3ms/step - loss: 0.0343 - acc: 0.9921 - val_loss: 0.8221 - val_acc: 0.8513\n",
            "Epoch 12/30\n",
            "319/319 [==============================] - 1s 3ms/step - loss: 0.0220 - acc: 0.9957 - val_loss: 0.8677 - val_acc: 0.8516\n",
            "Epoch 13/30\n",
            "319/319 [==============================] - 1s 3ms/step - loss: 0.0200 - acc: 0.9962 - val_loss: 0.9800 - val_acc: 0.8375\n",
            "Epoch 14/30\n",
            "319/319 [==============================] - 1s 3ms/step - loss: 0.0328 - acc: 0.9923 - val_loss: 1.0250 - val_acc: 0.8528\n",
            "Epoch 15/30\n",
            "319/319 [==============================] - 1s 3ms/step - loss: 0.0306 - acc: 0.9923 - val_loss: 1.0229 - val_acc: 0.8442\n",
            "Epoch 16/30\n",
            "319/319 [==============================] - 1s 3ms/step - loss: 0.0263 - acc: 0.9941 - val_loss: 1.0548 - val_acc: 0.8407\n",
            "Epoch 17/30\n",
            "319/319 [==============================] - 1s 3ms/step - loss: 0.0191 - acc: 0.9968 - val_loss: 1.0633 - val_acc: 0.8454\n",
            "Epoch 18/30\n",
            "319/319 [==============================] - 1s 3ms/step - loss: 0.0139 - acc: 0.9975 - val_loss: 1.2088 - val_acc: 0.8556\n",
            "Epoch 19/30\n",
            "319/319 [==============================] - 1s 3ms/step - loss: 0.0140 - acc: 0.9973 - val_loss: 1.1468 - val_acc: 0.8454\n",
            "Epoch 20/30\n",
            "319/319 [==============================] - 1s 3ms/step - loss: 0.0057 - acc: 0.9994 - val_loss: 1.2291 - val_acc: 0.8528\n",
            "Epoch 21/30\n",
            "319/319 [==============================] - 1s 3ms/step - loss: 0.0034 - acc: 0.9998 - val_loss: 1.2652 - val_acc: 0.8458\n",
            "Epoch 22/30\n",
            "319/319 [==============================] - 1s 3ms/step - loss: 0.0016 - acc: 0.9999 - val_loss: 1.3224 - val_acc: 0.8473\n",
            "Epoch 23/30\n",
            "319/319 [==============================] - 1s 3ms/step - loss: 0.0015 - acc: 0.9997 - val_loss: 1.3563 - val_acc: 0.8485\n",
            "Epoch 24/30\n",
            "319/319 [==============================] - 1s 3ms/step - loss: 0.0010 - acc: 0.9998 - val_loss: 1.3935 - val_acc: 0.8489\n",
            "Epoch 25/30\n",
            "319/319 [==============================] - 1s 3ms/step - loss: 9.9570e-04 - acc: 0.9998 - val_loss: 1.4294 - val_acc: 0.8477\n",
            "Epoch 26/30\n",
            "319/319 [==============================] - 1s 3ms/step - loss: 7.9074e-04 - acc: 0.9998 - val_loss: 1.4661 - val_acc: 0.8509\n",
            "Epoch 27/30\n",
            "319/319 [==============================] - 1s 3ms/step - loss: 6.2870e-04 - acc: 0.9998 - val_loss: 1.5015 - val_acc: 0.8505\n",
            "Epoch 28/30\n",
            "319/319 [==============================] - 1s 3ms/step - loss: 5.8882e-04 - acc: 0.9999 - val_loss: 1.5394 - val_acc: 0.8520\n",
            "Epoch 29/30\n",
            "319/319 [==============================] - 1s 3ms/step - loss: 5.7125e-04 - acc: 0.9998 - val_loss: 1.5724 - val_acc: 0.8501\n",
            "Epoch 30/30\n",
            "319/319 [==============================] - 1s 3ms/step - loss: 3.3807e-04 - acc: 0.9999 - val_loss: 1.6179 - val_acc: 0.8481\n"
          ]
        }
      ]
    },
    {
      "cell_type": "code",
      "source": [
        "#evaluate how Model 2 is doing \n",
        "plot_history(history_2, 'acc')"
      ],
      "metadata": {
        "colab": {
          "base_uri": "https://localhost:8080/",
          "height": 620
        },
        "id": "NaS8BFcVeZoC",
        "outputId": "9e1a0162-b6ce-4dac-8391-896cf3beb0b0"
      },
      "execution_count": 35,
      "outputs": [
        {
          "output_type": "display_data",
          "data": {
            "image/png": "[encoded data removed]",
            "text/plain": [
              "<Figure size 360x720 with 2 Axes>"
            ]
          },
          "metadata": {}
        }
      ]
    },
    {
      "cell_type": "markdown",
      "source": [
        "Based on the plot above, the model is still overfitting."
      ],
      "metadata": {
        "id": "2xBNEgEYejEX"
      }
    },
    {
      "cell_type": "markdown",
      "source": [
        "Model 3"
      ],
      "metadata": {
        "id": "U-t7S1gKqioT"
      }
    },
    {
      "cell_type": "markdown",
      "source": [
        "For model 3, I will add a droupout layer"
      ],
      "metadata": {
        "id": "zL376qM_3eyP"
      }
    },
    {
      "cell_type": "code",
      "source": [
        "#define model\n",
        "model3 = Sequential()"
      ],
      "metadata": {
        "id": "GoXGgLrk4GqH"
      },
      "execution_count": 36,
      "outputs": []
    },
    {
      "cell_type": "code",
      "source": [
        "#define model architecture. \n",
        "model3.add(layers.Dense(16, \n",
        "                       activation='relu',\n",
        "                       input_shape=(input_shape,)))\n",
        "model3.add(Dropout(.2))\n",
        "model3.add(layers.Dense(16,\n",
        "                       activation='relu'))\n",
        "model3.add(layers.Dense(1, activation='sigmoid'))"
      ],
      "metadata": {
        "id": "gqs1hd3x4MLs"
      },
      "execution_count": 37,
      "outputs": []
    },
    {
      "cell_type": "code",
      "source": [
        "#compile model\n",
        "model3.compile(optimizer='adam',\n",
        "              loss='binary_crossentropy',\n",
        "              metrics=['acc'])"
      ],
      "metadata": {
        "id": "uCZZ5xc14fR3"
      },
      "execution_count": 38,
      "outputs": []
    },
    {
      "cell_type": "code",
      "source": [
        "#fit model 3\n",
        "history_3 = model3.fit(X_train, y_train,\n",
        "                    validation_data=(X_test, y_test),\n",
        "                    epochs=30)\n",
        "                    "
      ],
      "metadata": {
        "colab": {
          "base_uri": "https://localhost:8080/"
        },
        "id": "LSuELiwQfSKv",
        "outputId": "a2a8ffd5-c499-4450-9247-c1f355ee57f2"
      },
      "execution_count": 39,
      "outputs": [
        {
          "output_type": "stream",
          "name": "stdout",
          "text": [
            "Epoch 1/30\n",
            "319/319 [==============================] - 1s 3ms/step - loss: 0.4947 - acc: 0.7909 - val_loss: 0.3887 - val_acc: 0.8485\n",
            "Epoch 2/30\n",
            "319/319 [==============================] - 1s 2ms/step - loss: 0.3574 - acc: 0.8566 - val_loss: 0.3568 - val_acc: 0.8583\n",
            "Epoch 3/30\n",
            "319/319 [==============================] - 1s 3ms/step - loss: 0.3162 - acc: 0.8716 - val_loss: 0.3582 - val_acc: 0.8611\n",
            "Epoch 4/30\n",
            "319/319 [==============================] - 1s 3ms/step - loss: 0.2888 - acc: 0.8826 - val_loss: 0.3650 - val_acc: 0.8607\n",
            "Epoch 5/30\n",
            "319/319 [==============================] - 1s 2ms/step - loss: 0.2753 - acc: 0.8847 - val_loss: 0.3700 - val_acc: 0.8607\n",
            "Epoch 6/30\n",
            "319/319 [==============================] - 1s 2ms/step - loss: 0.2607 - acc: 0.8912 - val_loss: 0.3776 - val_acc: 0.8626\n",
            "Epoch 7/30\n",
            "319/319 [==============================] - 1s 2ms/step - loss: 0.2524 - acc: 0.8934 - val_loss: 0.3822 - val_acc: 0.8642\n",
            "Epoch 8/30\n",
            "319/319 [==============================] - 1s 3ms/step - loss: 0.2382 - acc: 0.9010 - val_loss: 0.3898 - val_acc: 0.8658\n",
            "Epoch 9/30\n",
            "319/319 [==============================] - 1s 2ms/step - loss: 0.2305 - acc: 0.9070 - val_loss: 0.3983 - val_acc: 0.8630\n",
            "Epoch 10/30\n",
            "319/319 [==============================] - 1s 2ms/step - loss: 0.2225 - acc: 0.9087 - val_loss: 0.4107 - val_acc: 0.8622\n",
            "Epoch 11/30\n",
            "319/319 [==============================] - 1s 2ms/step - loss: 0.2206 - acc: 0.9089 - val_loss: 0.4104 - val_acc: 0.8595\n",
            "Epoch 12/30\n",
            "319/319 [==============================] - 1s 2ms/step - loss: 0.2129 - acc: 0.9132 - val_loss: 0.4360 - val_acc: 0.8619\n",
            "Epoch 13/30\n",
            "319/319 [==============================] - 1s 2ms/step - loss: 0.2050 - acc: 0.9147 - val_loss: 0.4417 - val_acc: 0.8587\n",
            "Epoch 14/30\n",
            "319/319 [==============================] - 1s 2ms/step - loss: 0.2054 - acc: 0.9149 - val_loss: 0.4579 - val_acc: 0.8595\n",
            "Epoch 15/30\n",
            "319/319 [==============================] - 1s 3ms/step - loss: 0.1939 - acc: 0.9199 - val_loss: 0.4689 - val_acc: 0.8619\n",
            "Epoch 16/30\n",
            "319/319 [==============================] - 1s 3ms/step - loss: 0.1929 - acc: 0.9214 - val_loss: 0.4846 - val_acc: 0.8568\n",
            "Epoch 17/30\n",
            "319/319 [==============================] - 1s 3ms/step - loss: 0.1922 - acc: 0.9222 - val_loss: 0.4764 - val_acc: 0.8513\n",
            "Epoch 18/30\n",
            "319/319 [==============================] - 1s 2ms/step - loss: 0.1830 - acc: 0.9256 - val_loss: 0.5176 - val_acc: 0.8571\n",
            "Epoch 19/30\n",
            "319/319 [==============================] - 1s 3ms/step - loss: 0.1774 - acc: 0.9285 - val_loss: 0.5111 - val_acc: 0.8595\n",
            "Epoch 20/30\n",
            "319/319 [==============================] - 1s 3ms/step - loss: 0.1774 - acc: 0.9276 - val_loss: 0.5250 - val_acc: 0.8560\n",
            "Epoch 21/30\n",
            "319/319 [==============================] - 1s 3ms/step - loss: 0.1730 - acc: 0.9296 - val_loss: 0.5277 - val_acc: 0.8595\n",
            "Epoch 22/30\n",
            "319/319 [==============================] - 1s 3ms/step - loss: 0.1687 - acc: 0.9335 - val_loss: 0.5462 - val_acc: 0.8516\n",
            "Epoch 23/30\n",
            "319/319 [==============================] - 1s 2ms/step - loss: 0.1643 - acc: 0.9328 - val_loss: 0.5571 - val_acc: 0.8583\n",
            "Epoch 24/30\n",
            "319/319 [==============================] - 1s 2ms/step - loss: 0.1602 - acc: 0.9350 - val_loss: 0.5843 - val_acc: 0.8599\n",
            "Epoch 25/30\n",
            "319/319 [==============================] - 1s 2ms/step - loss: 0.1605 - acc: 0.9377 - val_loss: 0.5893 - val_acc: 0.8615\n",
            "Epoch 26/30\n",
            "319/319 [==============================] - 1s 3ms/step - loss: 0.1553 - acc: 0.9394 - val_loss: 0.5981 - val_acc: 0.8619\n",
            "Epoch 27/30\n",
            "319/319 [==============================] - 1s 2ms/step - loss: 0.1524 - acc: 0.9388 - val_loss: 0.6060 - val_acc: 0.8595\n",
            "Epoch 28/30\n",
            "319/319 [==============================] - 1s 2ms/step - loss: 0.1554 - acc: 0.9388 - val_loss: 0.6286 - val_acc: 0.8599\n",
            "Epoch 29/30\n",
            "319/319 [==============================] - 1s 2ms/step - loss: 0.1517 - acc: 0.9389 - val_loss: 0.6555 - val_acc: 0.8548\n",
            "Epoch 30/30\n",
            "319/319 [==============================] - 1s 2ms/step - loss: 0.1553 - acc: 0.9369 - val_loss: 0.6553 - val_acc: 0.8571\n"
          ]
        }
      ]
    },
    {
      "cell_type": "code",
      "source": [
        "#evaluate how Model 3 is doing \n",
        "plot_history(history_3, 'acc')"
      ],
      "metadata": {
        "colab": {
          "base_uri": "https://localhost:8080/",
          "height": 620
        },
        "id": "EQx2p05Efz0H",
        "outputId": "a178357c-c6bc-49e1-db93-67999dbd404a"
      },
      "execution_count": 40,
      "outputs": [
        {
          "output_type": "display_data",
          "data": {
            "image/png": "[encoded data removed]",
            "text/plain": [
              "<Figure size 360x720 with 2 Axes>"
            ]
          },
          "metadata": {}
        }
      ]
    },
    {
      "cell_type": "markdown",
      "source": [
        "Model 3 is overfitting lesser than models 1 and 2. Although model 3 can still be improved, we will choose it for the evaluation."
      ],
      "metadata": {
        "id": "zd7b7eKpq3Cz"
      }
    },
    {
      "cell_type": "markdown",
      "source": [
        "Evaluation"
      ],
      "metadata": {
        "id": "pzFe4iUHA3Yp"
      }
    },
    {
      "cell_type": "code",
      "source": [
        "# Make predicitons and evaluate model 3: Code adapted from class note book from week 11\n",
        "print('Training Scores')\n",
        "\n",
        "# Define labels for the confusion matrix\n",
        "labels = ['Did Not Pass', 'Pass']\n",
        "\n",
        "# Get training predictions and round them to integers instead of floats\n",
        "train_preds = np.rint(model3.predict(X_train))\n",
        "\n",
        "# Classification Report\n",
        "print(classification_report(y_train, train_preds))\n",
        "\n",
        "# Confusion Matrix\n",
        "conf_mat = confusion_matrix(y_train, train_preds, normalize='true')\n",
        "heatmap(conf_mat, xticklabels=labels, yticklabels=labels, annot=True)\n",
        "plt.show()\n",
        "print('\\n')\n",
        "print('Testing Scores')\n",
        "\n",
        "# Get testing predictions and round them to integers\n",
        "test_preds = np.rint(model3.predict(X_test))\n",
        "\n",
        "# Classification report\n",
        "print(classification_report(y_test, test_preds))\n",
        "\n",
        "# Confusion Matrix\n",
        "conf_mat = confusion_matrix(y_test, test_preds, normalize='true')\n",
        "heatmap(conf_mat, xticklabels=labels, yticklabels=labels, annot=True)\n",
        "plt.show()\n"
      ],
      "metadata": {
        "colab": {
          "base_uri": "https://localhost:8080/",
          "height": 1000
        },
        "id": "meijejCqA55F",
        "outputId": "f4acedb9-ddfa-4d71-c97d-c5491091c3f3"
      },
      "execution_count": 41,
      "outputs": [
        {
          "output_type": "stream",
          "name": "stdout",
          "text": [
            "Training Scores\n",
            "              precision    recall  f1-score   support\n",
            "\n",
            "           0       0.97      0.90      0.93      2401\n",
            "           1       0.97      0.99      0.98      7788\n",
            "\n",
            "    accuracy                           0.97     10189\n",
            "   macro avg       0.97      0.95      0.96     10189\n",
            "weighted avg       0.97      0.97      0.97     10189\n",
            "\n"
          ]
        },
        {
          "output_type": "display_data",
          "data": {
            "image/png": "[encoded data removed]",
            "text/plain": [
              "<Figure size 576x396 with 2 Axes>"
            ]
          },
          "metadata": {}
        },
        {
          "output_type": "stream",
          "name": "stdout",
          "text": [
            "\n",
            "\n",
            "Testing Scores\n",
            "              precision    recall  f1-score   support\n",
            "\n",
            "           0       0.74      0.62      0.68       616\n",
            "           1       0.89      0.93      0.91      1932\n",
            "\n",
            "    accuracy                           0.86      2548\n",
            "   macro avg       0.82      0.78      0.79      2548\n",
            "weighted avg       0.85      0.86      0.85      2548\n",
            "\n"
          ]
        },
        {
          "output_type": "display_data",
          "data": {
            "image/png": "[encoded data removed]",
            "text/plain": [
              "<Figure size 576x396 with 2 Axes>"
            ]
          },
          "metadata": {}
        }
      ]
    },
    {
      "cell_type": "markdown",
      "source": [
        "Summary and Model Performance"
      ],
      "metadata": {
        "id": "P2A0kz-6DldU"
      }
    },
    {
      "cell_type": "markdown",
      "source": [
        "The model has an average accuracy of 85%. However, it performs better in predicting students that will pass than in predicting students that will fail (based on the precisioin and recall scores). The recommendation would be to try and improve the performance of the model (by further tuning) before deploying to production."
      ],
      "metadata": {
        "id": "zWtztCSlDr_4"
      }
    }
  ]
}