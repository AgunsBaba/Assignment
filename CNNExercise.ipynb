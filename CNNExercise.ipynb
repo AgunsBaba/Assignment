{
  "nbformat": 4,
  "nbformat_minor": 0,
  "metadata": {
    "colab": {
      "name": "CNNExercise.ipynb",
      "provenance": [],
      "collapsed_sections": [],
      "authorship_tag": "ABX9TyM6vqQcnu+Q8rwpMloJ4ojT",
      "include_colab_link": true
    },
    "kernelspec": {
      "name": "python3",
      "display_name": "Python 3"
    },
    "language_info": {
      "name": "python"
    }
  },
  "cells": [
    {
      "cell_type": "markdown",
      "metadata": {
        "id": "view-in-github",
        "colab_type": "text"
      },
      "source": [
        "<a href=\"https://colab.research.google.com/github/AgunsBaba/Assignment/blob/master/CNNExercise.ipynb\" target=\"_parent\"><img src=\"https://colab.research.google.com/assets/colab-badge.svg\" alt=\"Open In Colab\"/></a>"
      ]
    },
    {
      "cell_type": "code",
      "execution_count": 34,
      "metadata": {
        "id": "oOcV1EqPjCJP"
      },
      "outputs": [],
      "source": [
        "# Imports\n",
        "import numpy as np\n",
        "import matplotlib.pyplot as plt\n",
        "import pandas as pd\n",
        "from tensorflow.keras.models import Sequential\n",
        "from tensorflow.keras.layers import Dense, Flatten, Conv2D, MaxPooling2D\n",
        "from tensorflow.keras.utils import to_categorical\n",
        "from tensorflow.keras.datasets import fashion_mnist"
      ]
    },
    {
      "cell_type": "code",
      "source": [
        "#import data\n",
        "(X_train, y_train), (X_test, y_test) = fashion_mnist.load_data()"
      ],
      "metadata": {
        "id": "QLvkp6iujLQ-"
      },
      "execution_count": 35,
      "outputs": []
    },
    {
      "cell_type": "code",
      "source": [
        "X_train.shape"
      ],
      "metadata": {
        "colab": {
          "base_uri": "https://localhost:8080/"
        },
        "id": "FbfM6zmkl8Su",
        "outputId": "a0bfc302-fd3b-4628-c27d-25e8f38571a1"
      },
      "execution_count": 36,
      "outputs": [
        {
          "output_type": "execute_result",
          "data": {
            "text/plain": [
              "(60000, 28, 28)"
            ]
          },
          "metadata": {},
          "execution_count": 36
        }
      ]
    },
    {
      "cell_type": "code",
      "source": [
        "#scale data\n",
        "X_train = X_train/255\n",
        "X_test = X_test/255"
      ],
      "metadata": {
        "id": "yE8AEpaynzVs"
      },
      "execution_count": 37,
      "outputs": []
    },
    {
      "cell_type": "code",
      "source": [
        "#reshape data\n",
        "X_train = X_train.reshape(X_train.shape[0], 28, 28, 1)\n",
        "X_test = X_test.reshape(X_test.shape[0], 28, 28, 1)"
      ],
      "metadata": {
        "id": "GARKiG23oBCb"
      },
      "execution_count": 38,
      "outputs": []
    },
    {
      "cell_type": "code",
      "source": [
        "#format target labels\n",
        "y_train = to_categorical(y_train, num_classes = 10)\n",
        "y_test = to_categorical(y_test, num_classes = 10)"
      ],
      "metadata": {
        "id": "DJxsBe5Epc70"
      },
      "execution_count": 39,
      "outputs": []
    },
    {
      "cell_type": "code",
      "source": [
        "#instantiate input shape and Sequential model\n",
        "input_shape = X_train.shape[1:4]\n",
        "model = Sequential()"
      ],
      "metadata": {
        "id": "tq-fx6W0pmZb"
      },
      "execution_count": 52,
      "outputs": []
    },
    {
      "cell_type": "code",
      "source": [
        "#Convolutional layer\n",
        "model.add(Conv2D(filters = 64, \n",
        "                 kernel_size = 7,\n",
        "                 activation = 'relu',\n",
        "                 input_shape = input_shape))\n",
        "# Pooling layer\n",
        "model.add(MaxPooling2D(pool_size = 2))\n",
        "\n",
        "# Flattening layer\n",
        "model.add(Flatten())\n",
        "\n",
        "# Output layer\n",
        "model.add(Dense(10,\n",
        "                activation = 'softmax'))\n"
      ],
      "metadata": {
        "id": "CdF3FoF5tegM"
      },
      "execution_count": 53,
      "outputs": []
    },
    {
      "cell_type": "code",
      "source": [
        "#compile the model\n",
        "model.compile(loss = 'categorical_crossentropy', \n",
        "              optimizer = 'adam', \n",
        "              metrics = ['acc'])"
      ],
      "metadata": {
        "id": "JQ--eWGmt9Lt"
      },
      "execution_count": 54,
      "outputs": []
    },
    {
      "cell_type": "code",
      "source": [
        "#fit the model\n",
        "history = model.fit(X_train, y_train,\n",
        "                    validation_data = (X_test, y_test), \n",
        "                    epochs=20)"
      ],
      "metadata": {
        "colab": {
          "base_uri": "https://localhost:8080/"
        },
        "id": "4HUawWULuRxS",
        "outputId": "f782e466-d425-424f-fad8-493976389017"
      },
      "execution_count": 55,
      "outputs": [
        {
          "output_type": "stream",
          "name": "stdout",
          "text": [
            "Epoch 1/20\n",
            "1875/1875 [==============================] - 47s 25ms/step - loss: 0.4370 - acc: 0.8451 - val_loss: 0.3570 - val_acc: 0.8763\n",
            "Epoch 2/20\n",
            "1875/1875 [==============================] - 47s 25ms/step - loss: 0.3137 - acc: 0.8878 - val_loss: 0.3304 - val_acc: 0.8790\n",
            "Epoch 3/20\n",
            "1875/1875 [==============================] - 45s 24ms/step - loss: 0.2758 - acc: 0.9010 - val_loss: 0.2933 - val_acc: 0.8978\n",
            "Epoch 4/20\n",
            "1875/1875 [==============================] - 45s 24ms/step - loss: 0.2505 - acc: 0.9098 - val_loss: 0.2917 - val_acc: 0.8983\n",
            "Epoch 5/20\n",
            "1875/1875 [==============================] - 44s 24ms/step - loss: 0.2305 - acc: 0.9159 - val_loss: 0.2811 - val_acc: 0.9019\n",
            "Epoch 6/20\n",
            "1875/1875 [==============================] - 44s 24ms/step - loss: 0.2104 - acc: 0.9247 - val_loss: 0.2754 - val_acc: 0.9032\n",
            "Epoch 7/20\n",
            "1875/1875 [==============================] - 45s 24ms/step - loss: 0.1935 - acc: 0.9285 - val_loss: 0.2790 - val_acc: 0.9072\n",
            "Epoch 8/20\n",
            "1875/1875 [==============================] - 44s 24ms/step - loss: 0.1824 - acc: 0.9331 - val_loss: 0.2849 - val_acc: 0.9069\n",
            "Epoch 9/20\n",
            "1875/1875 [==============================] - 45s 24ms/step - loss: 0.1697 - acc: 0.9377 - val_loss: 0.2747 - val_acc: 0.9080\n",
            "Epoch 10/20\n",
            "1875/1875 [==============================] - 44s 24ms/step - loss: 0.1576 - acc: 0.9415 - val_loss: 0.2778 - val_acc: 0.9112\n",
            "Epoch 11/20\n",
            "1875/1875 [==============================] - 45s 24ms/step - loss: 0.1493 - acc: 0.9449 - val_loss: 0.2798 - val_acc: 0.9070\n",
            "Epoch 12/20\n",
            "1875/1875 [==============================] - 45s 24ms/step - loss: 0.1406 - acc: 0.9481 - val_loss: 0.3003 - val_acc: 0.9076\n",
            "Epoch 13/20\n",
            "1875/1875 [==============================] - 45s 24ms/step - loss: 0.1345 - acc: 0.9509 - val_loss: 0.2983 - val_acc: 0.9079\n",
            "Epoch 14/20\n",
            "1875/1875 [==============================] - 44s 24ms/step - loss: 0.1279 - acc: 0.9535 - val_loss: 0.3089 - val_acc: 0.9069\n",
            "Epoch 15/20\n",
            "1875/1875 [==============================] - 45s 24ms/step - loss: 0.1220 - acc: 0.9553 - val_loss: 0.3119 - val_acc: 0.9097\n",
            "Epoch 16/20\n",
            "1875/1875 [==============================] - 45s 24ms/step - loss: 0.1182 - acc: 0.9566 - val_loss: 0.3400 - val_acc: 0.9013\n",
            "Epoch 17/20\n",
            "1875/1875 [==============================] - 46s 25ms/step - loss: 0.1124 - acc: 0.9587 - val_loss: 0.3148 - val_acc: 0.9070\n",
            "Epoch 18/20\n",
            "1875/1875 [==============================] - 45s 24ms/step - loss: 0.1053 - acc: 0.9619 - val_loss: 0.3339 - val_acc: 0.9057\n",
            "Epoch 19/20\n",
            "1875/1875 [==============================] - 45s 24ms/step - loss: 0.1018 - acc: 0.9630 - val_loss: 0.3369 - val_acc: 0.9070\n",
            "Epoch 20/20\n",
            "1875/1875 [==============================] - 45s 24ms/step - loss: 0.0953 - acc: 0.9653 - val_loss: 0.3416 - val_acc: 0.9057\n"
          ]
        }
      ]
    },
    {
      "cell_type": "code",
      "source": [
        "# Visualize the loss\n",
        "plt.plot(history.history['loss'], label='Train loss')\n",
        "plt.plot(history.history['val_loss'], label='Test Loss')\n",
        "plt.legend()\n",
        "plt.show()"
      ],
      "metadata": {
        "colab": {
          "base_uri": "https://localhost:8080/",
          "height": 267
        },
        "id": "Kyr8c-GtuZLN",
        "outputId": "7f1d7943-d9db-4d03-bb83-c9171273d3c7"
      },
      "execution_count": 58,
      "outputs": [
        {
          "output_type": "display_data",
          "data": {
            "image/png": "[encoded data removed]",
            "text/plain": [
              "<Figure size 432x288 with 1 Axes>"
            ]
          },
          "metadata": {
            "needs_background": "light"
          }
        }
      ]
    },
    {
      "cell_type": "code",
      "source": [
        "# Visualize the accuracy\n",
        "plt.plot(history.history['acc'], label='Train Accuracy')\n",
        "plt.plot(history.history['val_acc'], label='Test Accuracy')\n",
        "plt.legend()\n",
        "plt.show()"
      ],
      "metadata": {
        "colab": {
          "base_uri": "https://localhost:8080/",
          "height": 265
        },
        "id": "rvWjGfVqx0gV",
        "outputId": "5b7ecc0c-818a-451b-e569-d58040a52059"
      },
      "execution_count": 57,
      "outputs": [
        {
          "output_type": "display_data",
          "data": {
            "image/png": "[encoded data removed]",
            "text/plain": [
              "<Figure size 432x288 with 1 Axes>"
            ]
          },
          "metadata": {
            "needs_background": "light"
          }
        }
      ]
    }
  ]
}