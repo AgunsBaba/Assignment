{
  "nbformat": 4,
  "nbformat_minor": 0,
  "metadata": {
    "colab": {
      "name": "PCA.ipynb",
      "provenance": [],
      "authorship_tag": "ABX9TyNYYCjRwInP7TW0+VPP/pHe",
      "include_colab_link": true
    },
    "kernelspec": {
      "name": "python3",
      "display_name": "Python 3"
    },
    "language_info": {
      "name": "python"
    }
  },
  "cells": [
    {
      "cell_type": "markdown",
      "metadata": {
        "id": "view-in-github",
        "colab_type": "text"
      },
      "source": [
        "<a href=\"https://colab.research.google.com/github/AgunsBaba/Assignment/blob/master/PCA.ipynb\" target=\"_parent\"><img src=\"https://colab.research.google.com/assets/colab-badge.svg\" alt=\"Open In Colab\"/></a>"
      ]
    },
    {
      "cell_type": "code",
      "execution_count": 38,
      "metadata": {
        "colab": {
          "base_uri": "https://localhost:8080/"
        },
        "id": "tgRCtuKgw-kk",
        "outputId": "59bcdd13-1623-4d8f-ca10-7bebead9b938"
      },
      "outputs": [
        {
          "output_type": "execute_result",
          "data": {
            "text/plain": [
              "(70000, 784)"
            ]
          },
          "metadata": {},
          "execution_count": 38
        }
      ],
      "source": [
        "# load the dataset\n",
        "from sklearn.datasets import fetch_openml\n",
        "mnist = fetch_openml('mnist_784')\n",
        "# view the shape of the dataset\n",
        "mnist.data.shape"
      ]
    },
    {
      "cell_type": "code",
      "source": [
        "#import modules\n",
        "# Imports\n",
        "import numpy as np\n",
        "import matplotlib.pyplot as plt\n",
        "import pandas as pd\n",
        "from sklearn.model_selection import train_test_split\n",
        "from sklearn.decomposition import PCA\n",
        "from sklearn.linear_model import LogisticRegression\n",
        "from sklearn.pipeline import make_pipeline\n",
        "from sklearn.metrics import classification_report\n",
        "from sklearn.preprocessing import StandardScaler"
      ],
      "metadata": {
        "id": "IUsQ_9qTyYO8"
      },
      "execution_count": 39,
      "outputs": []
    },
    {
      "cell_type": "code",
      "source": [
        "#instantiate the data in to X and y\n",
        "X = mnist.data\n",
        "y = mnist.target"
      ],
      "metadata": {
        "id": "k44v01CszZ4T"
      },
      "execution_count": 40,
      "outputs": []
    },
    {
      "cell_type": "code",
      "source": [
        "#instantiate and fit the PCA algo\n",
        "pca = PCA()\n",
        "pca.fit(X)"
      ],
      "metadata": {
        "colab": {
          "base_uri": "https://localhost:8080/"
        },
        "id": "yZS5DQ4Z0YI6",
        "outputId": "d90acc66-757c-4fad-c0aa-a647fc124371"
      },
      "execution_count": 41,
      "outputs": [
        {
          "output_type": "execute_result",
          "data": {
            "text/plain": [
              "PCA()"
            ]
          },
          "metadata": {},
          "execution_count": 41
        }
      ]
    },
    {
      "cell_type": "code",
      "source": [
        "# Plot the explained variance ratios of the first 10 principal components\n",
        "plt.plot(range(1, 11), pca.explained_variance_ratio_[:10], marker = '|')\n",
        "plt.xticks(ticks = range(1, 11))\n",
        "plt.xlabel('Principal Component')\n",
        "plt.ylabel('Proportion of Explained Variance')\n",
        "plt.show()"
      ],
      "metadata": {
        "colab": {
          "base_uri": "https://localhost:8080/",
          "height": 280
        },
        "id": "9dtQwn04-kY-",
        "outputId": "8ab3c5a7-cb1f-45b8-f20d-234f0dd7fc9f"
      },
      "execution_count": 42,
      "outputs": [
        {
          "output_type": "display_data",
          "data": {
            "image/png": "[encoded data removed]",
            "text/plain": [
              "<Figure size 432x288 with 1 Axes>"
            ]
          },
          "metadata": {
            "needs_background": "light"
          }
        }
      ]
    },
    {
      "cell_type": "markdown",
      "source": [
        "From the chart above, it seems the variance explained seems to drop off after 2 principal components. So we'll instantiate a PCA algo with n_components = 2 for starters"
      ],
      "metadata": {
        "id": "0QJ7ZltvACxP"
      }
    },
    {
      "cell_type": "markdown",
      "source": [
        "**Logistic Regression with PCA when n_components = 2**"
      ],
      "metadata": {
        "id": "HosZ1tRHA307"
      }
    },
    {
      "cell_type": "code",
      "source": [
        "#fit the PCA algo with the best n_component\n",
        "pca_best = PCA(n_components=2)\n",
        "\n",
        "#instantiate model\n",
        "logreg = LogisticRegression()\n",
        "\n",
        "#Instantiate scaler\n",
        "scaler = StandardScaler()"
      ],
      "metadata": {
        "id": "evhHrmPiA78U"
      },
      "execution_count": 43,
      "outputs": []
    },
    {
      "cell_type": "code",
      "source": [
        "#split data into training and test sets\n",
        "X_train, X_test, y_train, y_test = train_test_split(X, y, test_size=0.3, random_state=42)"
      ],
      "metadata": {
        "id": "6JRmhNZDAhCO"
      },
      "execution_count": 44,
      "outputs": []
    },
    {
      "cell_type": "code",
      "source": [
        "#make pipeline\n",
        "logreg_pipe = make_pipeline(scaler, pca_best, logreg)"
      ],
      "metadata": {
        "id": "wKyNV0TQBa41"
      },
      "execution_count": 45,
      "outputs": []
    },
    {
      "cell_type": "code",
      "source": [
        "#fit pipeline\n",
        "logreg_pipe.fit(X_train, y_train)"
      ],
      "metadata": {
        "colab": {
          "base_uri": "https://localhost:8080/"
        },
        "id": "dSrZ2drRCL32",
        "outputId": "f4fc5a52-a85f-4691-9a4e-d4aa4ca17910"
      },
      "execution_count": 46,
      "outputs": [
        {
          "output_type": "execute_result",
          "data": {
            "text/plain": [
              "Pipeline(steps=[('standardscaler', StandardScaler()),\n",
              "                ('pca', PCA(n_components=2)),\n",
              "                ('logisticregression', LogisticRegression())])"
            ]
          },
          "metadata": {},
          "execution_count": 46
        }
      ]
    },
    {
      "cell_type": "code",
      "source": [
        "#generate accuracy score\n",
        "print('Training accuracy:', logreg_pipe.score(X_train, y_train))\n",
        "print('Testing accuracy:', logreg_pipe.score(X_test, y_test))"
      ],
      "metadata": {
        "colab": {
          "base_uri": "https://localhost:8080/"
        },
        "id": "jOooZ5p5CZsL",
        "outputId": "b066a43a-6e3b-4dea-ee69-84d6083b3cb1"
      },
      "execution_count": 47,
      "outputs": [
        {
          "output_type": "stream",
          "name": "stdout",
          "text": [
            "Training accuracy: 0.3370408163265306\n",
            "Testing accuracy: 0.338\n"
          ]
        }
      ]
    },
    {
      "cell_type": "markdown",
      "source": [
        "The accuracy of the Logistic Regression model with PCA when n_components = 2 is very low (worse than a random guess). The reason is beacuse two principal components can only explain less than 20% of the variance in the dataset (based on the chart above).\n",
        "\n",
        "My next step would be to fit a Logistic Regression model with PCA with all the 784 components (i.e. n_components = 784) and fir another Logistic Regression model without PCA and then compare the performance"
      ],
      "metadata": {
        "id": "bbbJGupIBVdR"
      }
    },
    {
      "cell_type": "markdown",
      "source": [
        "**Logistic Regression with PCA when n_components = 784**"
      ],
      "metadata": {
        "id": "jpAgyUL8CzH4"
      }
    },
    {
      "cell_type": "code",
      "source": [
        "#fit PCA with 784 components\n",
        "pca_all = PCA(n_components=784)\n",
        "\n",
        "#make pipeline\n",
        "pipe_all = make_pipeline(scaler, pca_all, logreg)"
      ],
      "metadata": {
        "id": "t1I9XxzsEJW7"
      },
      "execution_count": 48,
      "outputs": []
    },
    {
      "cell_type": "code",
      "source": [
        "%%%time\n",
        "#fit pipeline\n",
        "pipe_all.fit(X_train, y_train)"
      ],
      "metadata": {
        "colab": {
          "base_uri": "https://localhost:8080/"
        },
        "id": "FzWs8ViJFfBv",
        "outputId": "1bebcf62-1245-459b-bfcb-f29d7a41b82a"
      },
      "execution_count": 49,
      "outputs": [
        {
          "output_type": "stream",
          "name": "stdout",
          "text": [
            "CPU times: user 1min 19s, sys: 9.1 s, total: 1min 28s\n",
            "Wall time: 49.3 s\n"
          ]
        },
        {
          "output_type": "stream",
          "name": "stderr",
          "text": [
            "/usr/local/lib/python3.7/dist-packages/sklearn/linear_model/_logistic.py:818: ConvergenceWarning: lbfgs failed to converge (status=1):\n",
            "STOP: TOTAL NO. of ITERATIONS REACHED LIMIT.\n",
            "\n",
            "Increase the number of iterations (max_iter) or scale the data as shown in:\n",
            "    https://scikit-learn.org/stable/modules/preprocessing.html\n",
            "Please also refer to the documentation for alternative solver options:\n",
            "    https://scikit-learn.org/stable/modules/linear_model.html#logistic-regression\n",
            "  extra_warning_msg=_LOGISTIC_SOLVER_CONVERGENCE_MSG,\n"
          ]
        },
        {
          "output_type": "execute_result",
          "data": {
            "text/plain": [
              "Pipeline(steps=[('standardscaler', StandardScaler()),\n",
              "                ('pca', PCA(n_components=784)),\n",
              "                ('logisticregression', LogisticRegression())])"
            ]
          },
          "metadata": {},
          "execution_count": 49
        }
      ]
    },
    {
      "cell_type": "code",
      "source": [
        "#generate accuracy score\n",
        "print('Training accuracy:', pipe_all.score(X_train, y_train))\n",
        "print('Testing accuracy:', pipe_all.score(X_test, y_test))"
      ],
      "metadata": {
        "colab": {
          "base_uri": "https://localhost:8080/"
        },
        "id": "qD2xg5rpD9zr",
        "outputId": "c5f15842-7d1f-45ca-853f-23694b5185dc"
      },
      "execution_count": 50,
      "outputs": [
        {
          "output_type": "stream",
          "name": "stdout",
          "text": [
            "Training accuracy: 0.946734693877551\n",
            "Testing accuracy: 0.9136666666666666\n"
          ]
        }
      ]
    },
    {
      "cell_type": "markdown",
      "source": [
        "Expectedly, the accuracy score using all the 784 components is better than using just two components"
      ],
      "metadata": {
        "id": "BM6sEml4EJXx"
      }
    },
    {
      "cell_type": "markdown",
      "source": [
        "**Vanilla Logistic Regression without PCA**"
      ],
      "metadata": {
        "id": "6CqDLiMhDyMd"
      }
    },
    {
      "cell_type": "code",
      "source": [
        "#make pipeline\n",
        "logreg_only = make_pipeline(scaler, logreg)"
      ],
      "metadata": {
        "id": "pZfky-CBD2c7"
      },
      "execution_count": 51,
      "outputs": []
    },
    {
      "cell_type": "code",
      "source": [
        "%%%time\n",
        "#fit the pipeline\n",
        "logreg_only.fit(X_train, y_train)"
      ],
      "metadata": {
        "colab": {
          "base_uri": "https://localhost:8080/"
        },
        "id": "3Yw-3h63FYqa",
        "outputId": "1b3f98c3-ffd5-4e59-db69-83bdc00cf06d"
      },
      "execution_count": 52,
      "outputs": [
        {
          "output_type": "stream",
          "name": "stdout",
          "text": [
            "CPU times: user 1min, sys: 5.91 s, total: 1min 6s\n",
            "Wall time: 34.9 s\n"
          ]
        },
        {
          "output_type": "stream",
          "name": "stderr",
          "text": [
            "/usr/local/lib/python3.7/dist-packages/sklearn/linear_model/_logistic.py:818: ConvergenceWarning: lbfgs failed to converge (status=1):\n",
            "STOP: TOTAL NO. of ITERATIONS REACHED LIMIT.\n",
            "\n",
            "Increase the number of iterations (max_iter) or scale the data as shown in:\n",
            "    https://scikit-learn.org/stable/modules/preprocessing.html\n",
            "Please also refer to the documentation for alternative solver options:\n",
            "    https://scikit-learn.org/stable/modules/linear_model.html#logistic-regression\n",
            "  extra_warning_msg=_LOGISTIC_SOLVER_CONVERGENCE_MSG,\n"
          ]
        },
        {
          "output_type": "execute_result",
          "data": {
            "text/plain": [
              "Pipeline(steps=[('standardscaler', StandardScaler()),\n",
              "                ('logisticregression', LogisticRegression())])"
            ]
          },
          "metadata": {},
          "execution_count": 52
        }
      ]
    },
    {
      "cell_type": "code",
      "source": [
        "print('Training accuracy:', logreg_only.score(X_train, y_train))\n",
        "print('Testing accuracy:', logreg_only.score(X_test, y_test))"
      ],
      "metadata": {
        "colab": {
          "base_uri": "https://localhost:8080/"
        },
        "id": "ftuWDxfOEZXz",
        "outputId": "420fffe7-4d49-491f-c871-bd26d44b4caa"
      },
      "execution_count": 53,
      "outputs": [
        {
          "output_type": "stream",
          "name": "stdout",
          "text": [
            "Training accuracy: 0.946734693877551\n",
            "Testing accuracy: 0.9136666666666666\n"
          ]
        }
      ]
    },
    {
      "cell_type": "markdown",
      "source": [
        "As expected, the accuracy of the vanilla Logistic Regression is similar to a Logistic Regression with PCA using all the components. However, it took about 30% less time to fit the Logistic Regression with PCA"
      ],
      "metadata": {
        "id": "7QHOL7z6GBVu"
      }
    }
  ]
}